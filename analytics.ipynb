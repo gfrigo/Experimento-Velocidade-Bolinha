{
 "cells": [
  {
   "cell_type": "code",
   "execution_count": 1,
   "id": "bd6833f5-34a0-4555-a50e-bff9fdb232de",
   "metadata": {},
   "outputs": [],
   "source": [
    "import pandas as pd\n",
    "import numpy as np\n",
    "import matplotlib.pyplot as plt\n",
    "import seaborn as sns"
   ]
  },
  {
   "cell_type": "code",
   "execution_count": 11,
   "id": "be247cf8-ce65-49bf-8d0c-c27e69eae366",
   "metadata": {},
   "outputs": [],
   "source": [
    "data = {\n",
    "    \"t1\": [0, 03.42, 00.79, 00.80, 02.78],\n",
    "    \"t2\": [0, 07.32, 03.70, 02.07, 01.65],\n",
    "    \"t3\": [0, 07.89, 03.80, 02.21, 01.48],\n",
    "    \"t4\": [0, 07.48, 03.60, 02.19, 01.46],\n",
    "    \"t5\": [0, 07.49, 03.61, 02.01, 01.08],\n",
    "}"
   ]
  },
  {
   "cell_type": "code",
   "execution_count": 14,
   "id": "64df8378-50cd-4854-ade0-7ef3b821d9d3",
   "metadata": {},
   "outputs": [],
   "source": [
    "df = pd.DataFrame(data,\n",
    "                  index=['0mm', '100mm' ,'200mm', '300mm', '400mm'])\n",
    "df['media_t'] = df.mean(axis=1)"
   ]
  },
  {
   "cell_type": "code",
   "execution_count": 16,
   "id": "42045ae3-2fb9-4724-8c8e-d8b093d3a292",
   "metadata": {},
   "outputs": [],
   "source": [
    "df.to_csv('./data/df.csv')"
   ]
  },
  {
   "cell_type": "code",
   "execution_count": 17,
   "id": "1b48a623-5f40-4e1b-8f67-fd7aa5012c20",
   "metadata": {},
   "outputs": [
    {
     "data": {
      "text/html": [
       "<div>\n",
       "<style scoped>\n",
       "    .dataframe tbody tr th:only-of-type {\n",
       "        vertical-align: middle;\n",
       "    }\n",
       "\n",
       "    .dataframe tbody tr th {\n",
       "        vertical-align: top;\n",
       "    }\n",
       "\n",
       "    .dataframe thead th {\n",
       "        text-align: right;\n",
       "    }\n",
       "</style>\n",
       "<table border=\"1\" class=\"dataframe\">\n",
       "  <thead>\n",
       "    <tr style=\"text-align: right;\">\n",
       "      <th></th>\n",
       "      <th>t1</th>\n",
       "      <th>t2</th>\n",
       "      <th>t3</th>\n",
       "      <th>t4</th>\n",
       "      <th>t5</th>\n",
       "      <th>media_t</th>\n",
       "    </tr>\n",
       "  </thead>\n",
       "  <tbody>\n",
       "    <tr>\n",
       "      <th>0mm</th>\n",
       "      <td>0.00</td>\n",
       "      <td>0.00</td>\n",
       "      <td>0.00</td>\n",
       "      <td>0.00</td>\n",
       "      <td>0.00</td>\n",
       "      <td>0.000</td>\n",
       "    </tr>\n",
       "    <tr>\n",
       "      <th>100mm</th>\n",
       "      <td>3.42</td>\n",
       "      <td>7.32</td>\n",
       "      <td>7.89</td>\n",
       "      <td>7.48</td>\n",
       "      <td>7.49</td>\n",
       "      <td>6.720</td>\n",
       "    </tr>\n",
       "    <tr>\n",
       "      <th>200mm</th>\n",
       "      <td>0.79</td>\n",
       "      <td>3.70</td>\n",
       "      <td>3.80</td>\n",
       "      <td>3.60</td>\n",
       "      <td>3.61</td>\n",
       "      <td>3.100</td>\n",
       "    </tr>\n",
       "    <tr>\n",
       "      <th>300mm</th>\n",
       "      <td>0.80</td>\n",
       "      <td>2.07</td>\n",
       "      <td>2.21</td>\n",
       "      <td>2.19</td>\n",
       "      <td>2.01</td>\n",
       "      <td>1.856</td>\n",
       "    </tr>\n",
       "    <tr>\n",
       "      <th>400mm</th>\n",
       "      <td>2.78</td>\n",
       "      <td>1.65</td>\n",
       "      <td>1.48</td>\n",
       "      <td>1.46</td>\n",
       "      <td>1.08</td>\n",
       "      <td>1.690</td>\n",
       "    </tr>\n",
       "  </tbody>\n",
       "</table>\n",
       "</div>"
      ],
      "text/plain": [
       "         t1    t2    t3    t4    t5  media_t\n",
       "0mm    0.00  0.00  0.00  0.00  0.00    0.000\n",
       "100mm  3.42  7.32  7.89  7.48  7.49    6.720\n",
       "200mm  0.79  3.70  3.80  3.60  3.61    3.100\n",
       "300mm  0.80  2.07  2.21  2.19  2.01    1.856\n",
       "400mm  2.78  1.65  1.48  1.46  1.08    1.690"
      ]
     },
     "execution_count": 17,
     "metadata": {},
     "output_type": "execute_result"
    }
   ],
   "source": [
    "df"
   ]
  },
  {
   "cell_type": "code",
   "execution_count": null,
   "id": "58ddfe26-7e22-4962-a34d-4cb3150621aa",
   "metadata": {},
   "outputs": [],
   "source": []
  }
 ],
 "metadata": {
  "kernelspec": {
   "display_name": "Python 3 (ipykernel)",
   "language": "python",
   "name": "python3"
  },
  "language_info": {
   "codemirror_mode": {
    "name": "ipython",
    "version": 3
   },
   "file_extension": ".py",
   "mimetype": "text/x-python",
   "name": "python",
   "nbconvert_exporter": "python",
   "pygments_lexer": "ipython3",
   "version": "3.11.5"
  }
 },
 "nbformat": 4,
 "nbformat_minor": 5
}
