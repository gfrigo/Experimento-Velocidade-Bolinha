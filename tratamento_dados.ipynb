{
 "cells": [
  {
   "cell_type": "markdown",
   "id": "1825aa5a-1882-488a-a0b1-c15c90da729e",
   "metadata": {},
   "source": [
    "## Imports"
   ]
  },
  {
   "cell_type": "code",
   "execution_count": 1261,
   "id": "bd6833f5-34a0-4555-a50e-bff9fdb232de",
   "metadata": {},
   "outputs": [],
   "source": [
    "import pandas as pd\n",
    "import numpy as np\n",
    "import matplotlib.pyplot as plt\n",
    "import seaborn as sns\n",
    "import plotly.express as px\n",
    "\n",
    "from IPython.display import Image"
   ]
  },
  {
   "cell_type": "markdown",
   "id": "7be988a1-c60e-4be3-aafe-d7628d3fd9f9",
   "metadata": {},
   "source": [
    "## DADOS DO GRUPO "
   ]
  },
  {
   "cell_type": "code",
   "execution_count": 1262,
   "id": "42045ae3-2fb9-4724-8c8e-d8b093d3a292",
   "metadata": {},
   "outputs": [],
   "source": [
    "# df.to_csv('./data/df.csv')"
   ]
  },
  {
   "cell_type": "code",
   "execution_count": 1263,
   "id": "1b48a623-5f40-4e1b-8f67-fd7aa5012c20",
   "metadata": {},
   "outputs": [],
   "source": [
    "# df"
   ]
  },
  {
   "cell_type": "code",
   "execution_count": 1264,
   "id": "be247cf8-ce65-49bf-8d0c-c27e69eae366",
   "metadata": {},
   "outputs": [],
   "source": [
    "# ## Dados do grupo\n",
    "# data = {\n",
    "#     \"t1\": [0, 03.42, 00.79, 00.80, 02.78],\n",
    "#     \"t2\": [0, 07.32, 03.70, 02.07, 01.65],\n",
    "#     \"t3\": [0, 07.89, 03.80, 02.21, 01.48],\n",
    "#     \"t4\": [0, 07.48, 03.60, 02.19, 01.46],\n",
    "#     \"t5\": [0, 07.49, 03.61, 02.01, 01.08],\n",
    "# }"
   ]
  },
  {
   "cell_type": "code",
   "execution_count": 1265,
   "id": "64df8378-50cd-4854-ade0-7ef3b821d9d3",
   "metadata": {},
   "outputs": [],
   "source": [
    "# df = pd.DataFrame(data,\n",
    "#                   index=[0, 0.1, 0.2, 0.3, 0.4])"
   ]
  },
  {
   "cell_type": "markdown",
   "id": "acb44315-cd27-4e20-9892-4867c85d45d7",
   "metadata": {},
   "source": [
    "# Dados"
   ]
  },
  {
   "cell_type": "code",
   "execution_count": 1266,
   "id": "4a71b383-ad2f-4d69-9cc3-e769171267ea",
   "metadata": {},
   "outputs": [],
   "source": [
    "data_10_graus = {\n",
    "    \"t1\": [0, 12.14, 25.26, 38.38, 50.88],\n",
    "    \"t2\": [0, 11.38, 23.21, 35.26, 46.59],\n",
    "    \"t3\": [0, 11.32, 22.61, 34.01, 45.25],\n",
    "}\n",
    "\n",
    "data_20_graus = {\n",
    "    \"t1\": [0, 4.72, 9.53, 14.26, 18.92],\n",
    "    \"t2\": [0, 4.81, 9.66, 15.13, 20.44],\n",
    "    \"t3\": [0, 4.28, 9.14, 13.74, 18.85],\n",
    "}\n",
    "\n",
    "data_30_graus = {\n",
    "    \"t1\": [0, 2.65, 5.18, 8.06, 10.56],\n",
    "    \"t2\": [0, 2.70, 5.49, 8.33, 11.09],\n",
    "    \"t3\": [0, 2.64, 5.60, 8.36, 11.06],\n",
    "}\n",
    "\n",
    "data_40_graus = {\n",
    "    \"t1\": [0, 1.46, 3.12, 4.71, 6.37],\n",
    "    \"t2\": [0, 1.59, 3.51, 4.87, 6.52],\n",
    "    \"t3\": [0, 1.60, 2.87, 4.74, 6.11],\n",
    "}"
   ]
  },
  {
   "cell_type": "code",
   "execution_count": 1267,
   "id": "1e265715-15a2-4daf-9599-bd3de46ff534",
   "metadata": {},
   "outputs": [],
   "source": [
    "df_10_graus = pd.DataFrame(data_10_graus,\n",
    "                  index=[0, 0.1, 0.2, 0.3, 0.4]).T\n",
    "\n",
    "df_20_graus = pd.DataFrame(data_20_graus,\n",
    "                  index=[0, 0.1, 0.2, 0.3, 0.4]).T\n",
    "\n",
    "df_30_graus = pd.DataFrame(data_30_graus,\n",
    "                  index=[0, 0.1, 0.2, 0.3, 0.4]).T\n",
    "\n",
    "df_40_graus = pd.DataFrame(data_40_graus,\n",
    "                  index=[0, 0.1, 0.2, 0.3, 0.4]).T"
   ]
  },
  {
   "cell_type": "markdown",
   "id": "123570b4-b0ca-4066-9f33-39514acc0eca",
   "metadata": {},
   "source": [
    "# Objetivo 4\n",
    "4- Avaliar a as incertezas nas medidas de tempo, ângulo, \n",
    "deslocamento."
   ]
  },
  {
   "cell_type": "markdown",
   "id": "eaea1adb-ac06-4b76-a204-22ae5820c9a9",
   "metadata": {},
   "source": [
    "`Incerteza no Tempo:` erro de equipamento e usar dados para cálculo conforme experimento passado, erro sistemático (ou seja, desvo absoluto), tempo de reação de uma pessoa varia entre 0.2 segundos.\n",
    "\n",
    "`Deslocamento:` Aqui a incerteza pode ser indicada pela metade da menor divisão da escala:\n",
    "\n",
    "`Ângulo:` erro de equipamento"
   ]
  },
  {
   "cell_type": "markdown",
   "id": "90e664af-8533-49d4-a75c-716b38262a72",
   "metadata": {},
   "source": [
    "## Cálculo Incertezas"
   ]
  },
  {
   "cell_type": "markdown",
   "id": "be2722d4-7e12-45f7-912a-9cea31aa480e",
   "metadata": {},
   "source": [
    "#### O que foi feito"
   ]
  },
  {
   "cell_type": "markdown",
   "id": "a54658bc-5668-470c-af1d-2485eb18c331",
   "metadata": {},
   "source": [
    "A incerteza/desvio absoluto foi tirada sob a medição de 3 tempos diferentes para cada ponto da bolinha (100mm, 200mm, 300mm, 400mm)"
   ]
  },
  {
   "cell_type": "markdown",
   "id": "172a1b09-85c3-4d5a-b890-64c43b51fd60",
   "metadata": {},
   "source": [
    "#### Tempo médio em 10º"
   ]
  },
  {
   "cell_type": "code",
   "execution_count": 1268,
   "id": "4f8b5b1d-21f9-4f58-bea1-4c2d1e6ae507",
   "metadata": {},
   "outputs": [
    {
     "data": {
      "image/png": "[encoded data removed]",
      "text/plain": [
       "<IPython.core.display.Image object>"
      ]
     },
     "execution_count": 1268,
     "metadata": {},
     "output_type": "execute_result"
    }
   ],
   "source": [
    "Image(filename='./pictures/d_media.PNG')"
   ]
  },
  {
   "cell_type": "code",
   "execution_count": 1269,
   "id": "3a27c0a4-db76-476f-a306-1d4046bb85f3",
   "metadata": {},
   "outputs": [],
   "source": [
    "t_media_100_10 = ((1/len(df_10_graus))*(df_10_graus[0.1].sum()))\n",
    "t_media_200_10 = ((1/len(df_10_graus))*(df_10_graus[0.2].sum()))\n",
    "t_media_300_10 = ((1/len(df_10_graus))*(df_10_graus[0.3].sum()))\n",
    "t_media_400_10 = ((1/len(df_10_graus))*(df_10_graus[0.4].sum()))"
   ]
  },
  {
   "cell_type": "code",
   "execution_count": 1270,
   "id": "0e423f9a-e1d3-411c-9348-18bf49b221f2",
   "metadata": {},
   "outputs": [
    {
     "name": "stdout",
     "output_type": "stream",
     "text": [
      "t médio para 100mm no ângulo 10: 11.613333333333333\n",
      "t médio para 200mm no ângulo 10: 23.69333333333333\n",
      "t médio para 300mm no ângulo 10: 35.88333333333333\n",
      "t médio para 400mm no ângulo 10: 47.57333333333333\n"
     ]
    }
   ],
   "source": [
    "print(f't médio para 100mm no ângulo 10: {t_media_100_10}')\n",
    "print(f't médio para 200mm no ângulo 10: {t_media_200_10}')\n",
    "print(f't médio para 300mm no ângulo 10: {t_media_300_10}')\n",
    "print(f't médio para 400mm no ângulo 10: {t_media_400_10}')"
   ]
  },
  {
   "cell_type": "markdown",
   "id": "37caeb9b-0038-4064-abeb-cb80cb262170",
   "metadata": {},
   "source": [
    "#### Desvios Absolutos em 10º"
   ]
  },
  {
   "cell_type": "code",
   "execution_count": 1271,
   "id": "5b4a74c6-c0b9-4250-9572-bc44cac511df",
   "metadata": {},
   "outputs": [
    {
     "data": {
      "image/png": "[encoded data removed]",
      "text/plain": [
       "<IPython.core.display.Image object>"
      ]
     },
     "execution_count": 1271,
     "metadata": {},
     "output_type": "execute_result"
    }
   ],
   "source": [
    "Image(filename='./pictures/desvio_absoluto.PNG')"
   ]
  },
  {
   "cell_type": "code",
   "execution_count": 1272,
   "id": "df3e55c9-cd11-40dc-bdc4-eae109b7b816",
   "metadata": {},
   "outputs": [
    {
     "data": {
      "image/png": "[encoded data removed]",
      "text/plain": [
       "<IPython.core.display.Image object>"
      ]
     },
     "execution_count": 1272,
     "metadata": {},
     "output_type": "execute_result"
    }
   ],
   "source": [
    "Image(filename='./pictures/variancia.PNG')"
   ]
  },
  {
   "cell_type": "code",
   "execution_count": 1273,
   "id": "9767f1a5-ea5a-4185-8f9e-3764bcc7143c",
   "metadata": {},
   "outputs": [],
   "source": [
    "df_10_graus['desvio_absoluto_100'] = df_10_graus[0.1] - t_media_100_10\n",
    "df_10_graus['desvio_absoluto_200'] = df_10_graus[0.2] - t_media_200_10\n",
    "df_10_graus['desvio_absoluto_300'] = df_10_graus[0.3] - t_media_300_10\n",
    "df_10_graus['desvio_absoluto_400'] = df_10_graus[0.4] - t_media_400_10"
   ]
  },
  {
   "cell_type": "code",
   "execution_count": 1274,
   "id": "68a5f82f-666d-40b9-8bcc-e9d73f821b0e",
   "metadata": {},
   "outputs": [],
   "source": [
    "df_10_graus['desvio_absoluto_100_modulo'] = df_10_graus['desvio_absoluto_100'].abs()\n",
    "df_10_graus['desvio_absoluto_200_modulo'] = df_10_graus['desvio_absoluto_200'].abs()\n",
    "df_10_graus['desvio_absoluto_300_modulo'] = df_10_graus['desvio_absoluto_300'].abs()\n",
    "df_10_graus['desvio_absoluto_400_modulo'] = df_10_graus['desvio_absoluto_400'].abs()"
   ]
  },
  {
   "cell_type": "markdown",
   "id": "8e667b72-9721-4c6a-aa9a-3b58c3228759",
   "metadata": {},
   "source": [
    "#### Incertezas Absolutas em 10º"
   ]
  },
  {
   "cell_type": "code",
   "execution_count": 1275,
   "id": "f4908b55-006a-45c7-91cf-a9f01c7a3e5e",
   "metadata": {},
   "outputs": [
    {
     "data": {
      "image/png": "[encoded data removed]",
      "text/plain": [
       "<IPython.core.display.Image object>"
      ]
     },
     "execution_count": 1275,
     "metadata": {},
     "output_type": "execute_result"
    }
   ],
   "source": [
    "Image(filename='./pictures/incerteza_1.PNG')"
   ]
  },
  {
   "cell_type": "code",
   "execution_count": 1276,
   "id": "30f1314e-f0d9-41e5-a6a1-77bd25d044cf",
   "metadata": {},
   "outputs": [],
   "source": [
    "incerteza_100_10 = (1/len(df_10_graus))*df_10_graus['desvio_absoluto_100_modulo'].sum()\n",
    "incerteza_200_10 = (1/len(df_10_graus))*df_10_graus['desvio_absoluto_200_modulo'].sum()\n",
    "incerteza_300_10 = (1/len(df_10_graus))*df_10_graus['desvio_absoluto_300_modulo'].sum()\n",
    "incerteza_400_10 = (1/len(df_10_graus))*df_10_graus['desvio_absoluto_400_modulo'].sum()\n",
    "media_incertezas_10_graus = (incerteza_100_10+incerteza_200_10+incerteza_300_10+incerteza_400_10)/4"
   ]
  },
  {
   "cell_type": "code",
   "execution_count": 1277,
   "id": "762e4c1f-0211-45bd-b146-783910310b25",
   "metadata": {},
   "outputs": [
    {
     "data": {
      "text/html": [
       "<div>\n",
       "<style scoped>\n",
       "    .dataframe tbody tr th:only-of-type {\n",
       "        vertical-align: middle;\n",
       "    }\n",
       "\n",
       "    .dataframe tbody tr th {\n",
       "        vertical-align: top;\n",
       "    }\n",
       "\n",
       "    .dataframe thead th {\n",
       "        text-align: right;\n",
       "    }\n",
       "</style>\n",
       "<table border=\"1\" class=\"dataframe\">\n",
       "  <thead>\n",
       "    <tr style=\"text-align: right;\">\n",
       "      <th></th>\n",
       "      <th>0.0</th>\n",
       "      <th>0.1</th>\n",
       "      <th>0.2</th>\n",
       "      <th>0.3</th>\n",
       "      <th>0.4</th>\n",
       "      <th>desvio_absoluto_100</th>\n",
       "      <th>desvio_absoluto_200</th>\n",
       "      <th>desvio_absoluto_300</th>\n",
       "      <th>desvio_absoluto_400</th>\n",
       "    </tr>\n",
       "  </thead>\n",
       "  <tbody>\n",
       "    <tr>\n",
       "      <th>t1</th>\n",
       "      <td>0.0</td>\n",
       "      <td>12.14</td>\n",
       "      <td>25.26</td>\n",
       "      <td>38.38</td>\n",
       "      <td>50.88</td>\n",
       "      <td>0.526667</td>\n",
       "      <td>1.566667</td>\n",
       "      <td>2.496667</td>\n",
       "      <td>3.306667</td>\n",
       "    </tr>\n",
       "    <tr>\n",
       "      <th>t2</th>\n",
       "      <td>0.0</td>\n",
       "      <td>11.38</td>\n",
       "      <td>23.21</td>\n",
       "      <td>35.26</td>\n",
       "      <td>46.59</td>\n",
       "      <td>-0.233333</td>\n",
       "      <td>-0.483333</td>\n",
       "      <td>-0.623333</td>\n",
       "      <td>-0.983333</td>\n",
       "    </tr>\n",
       "    <tr>\n",
       "      <th>t3</th>\n",
       "      <td>0.0</td>\n",
       "      <td>11.32</td>\n",
       "      <td>22.61</td>\n",
       "      <td>34.01</td>\n",
       "      <td>45.25</td>\n",
       "      <td>-0.293333</td>\n",
       "      <td>-1.083333</td>\n",
       "      <td>-1.873333</td>\n",
       "      <td>-2.323333</td>\n",
       "    </tr>\n",
       "  </tbody>\n",
       "</table>\n",
       "</div>"
      ],
      "text/plain": [
       "    0.0    0.1    0.2    0.3    0.4  desvio_absoluto_100  desvio_absoluto_200  \\\n",
       "t1  0.0  12.14  25.26  38.38  50.88             0.526667             1.566667   \n",
       "t2  0.0  11.38  23.21  35.26  46.59            -0.233333            -0.483333   \n",
       "t3  0.0  11.32  22.61  34.01  45.25            -0.293333            -1.083333   \n",
       "\n",
       "    desvio_absoluto_300  desvio_absoluto_400  \n",
       "t1             2.496667             3.306667  \n",
       "t2            -0.623333            -0.983333  \n",
       "t3            -1.873333            -2.323333  "
      ]
     },
     "execution_count": 1277,
     "metadata": {},
     "output_type": "execute_result"
    }
   ],
   "source": [
    "df_10_graus = df_10_graus.drop(columns=['desvio_absoluto_100_modulo', 'desvio_absoluto_200_modulo', 'desvio_absoluto_300_modulo', 'desvio_absoluto_400_modulo'], axis=1)\n",
    "df_10_graus"
   ]
  },
  {
   "cell_type": "markdown",
   "id": "33ebec6d-f412-497c-8f53-e72d0110c3a3",
   "metadata": {},
   "source": [
    "* Dataframe incertezas para tempos em 10?º"
   ]
  },
  {
   "cell_type": "code",
   "execution_count": 1278,
   "id": "e3dbede9-843d-4789-ad14-5ae7a8591745",
   "metadata": {},
   "outputs": [
    {
     "data": {
      "text/html": [
       "<div>\n",
       "<style scoped>\n",
       "    .dataframe tbody tr th:only-of-type {\n",
       "        vertical-align: middle;\n",
       "    }\n",
       "\n",
       "    .dataframe tbody tr th {\n",
       "        vertical-align: top;\n",
       "    }\n",
       "\n",
       "    .dataframe thead th {\n",
       "        text-align: right;\n",
       "    }\n",
       "</style>\n",
       "<table border=\"1\" class=\"dataframe\">\n",
       "  <thead>\n",
       "    <tr style=\"text-align: right;\">\n",
       "      <th></th>\n",
       "      <th>Ângulo: 10º</th>\n",
       "    </tr>\n",
       "  </thead>\n",
       "  <tbody>\n",
       "    <tr>\n",
       "      <th>100mm</th>\n",
       "      <td>0.351111</td>\n",
       "    </tr>\n",
       "    <tr>\n",
       "      <th>200mm</th>\n",
       "      <td>1.044444</td>\n",
       "    </tr>\n",
       "    <tr>\n",
       "      <th>300mm</th>\n",
       "      <td>1.664444</td>\n",
       "    </tr>\n",
       "    <tr>\n",
       "      <th>400mm</th>\n",
       "      <td>2.204444</td>\n",
       "    </tr>\n",
       "    <tr>\n",
       "      <th>Média de Incertezas</th>\n",
       "      <td>1.316111</td>\n",
       "    </tr>\n",
       "  </tbody>\n",
       "</table>\n",
       "</div>"
      ],
      "text/plain": [
       "                     Ângulo: 10º\n",
       "100mm                   0.351111\n",
       "200mm                   1.044444\n",
       "300mm                   1.664444\n",
       "400mm                   2.204444\n",
       "Média de Incertezas     1.316111"
      ]
     },
     "execution_count": 1278,
     "metadata": {},
     "output_type": "execute_result"
    }
   ],
   "source": [
    "incertezas_10_graus = pd.DataFrame(data=[incerteza_100_10, incerteza_200_10, incerteza_300_10, incerteza_400_10, media_incertezas_10_graus],\n",
    "                                  index=['100mm', '200mm', '300mm', '400mm', 'Média de Incertezas'],\n",
    "                                  columns=['Ângulo: 10º'])\n",
    "incertezas_10_graus"
   ]
  },
  {
   "cell_type": "markdown",
   "id": "4acd008e-ecec-45ab-a116-e90a3af080a8",
   "metadata": {},
   "source": [
    "#### Incertezas tempo em 20º"
   ]
  },
  {
   "cell_type": "code",
   "execution_count": 1279,
   "id": "1d019148-09e7-498d-aab7-659a9516a8ad",
   "metadata": {},
   "outputs": [],
   "source": [
    "t_media_100_20 = ((1/len(df_20_graus))*(df_20_graus[0.1].sum()))\n",
    "t_media_200_20 = ((1/len(df_20_graus))*(df_20_graus[0.2].sum()))\n",
    "t_media_300_20 = ((1/len(df_20_graus))*(df_20_graus[0.3].sum()))\n",
    "t_media_400_20 = ((1/len(df_20_graus))*(df_20_graus[0.4].sum()))"
   ]
  },
  {
   "cell_type": "code",
   "execution_count": 1280,
   "id": "28ac2e7c-ae72-4265-a901-1b67bc7eae37",
   "metadata": {},
   "outputs": [
    {
     "name": "stdout",
     "output_type": "stream",
     "text": [
      "t médio para 100mm no ângulo 10: 4.603333333333333\n",
      "t médio para 200mm no ângulo 10: 9.443333333333332\n",
      "t médio para 300mm no ângulo 10: 14.376666666666667\n",
      "t médio para 400mm no ângulo 10: 19.403333333333332\n"
     ]
    }
   ],
   "source": [
    "print(f't médio para 100mm no ângulo 10: {t_media_100_20}')\n",
    "print(f't médio para 200mm no ângulo 10: {t_media_200_20}')\n",
    "print(f't médio para 300mm no ângulo 10: {t_media_300_20}')\n",
    "print(f't médio para 400mm no ângulo 10: {t_media_400_20}')"
   ]
  },
  {
   "cell_type": "code",
   "execution_count": 1281,
   "id": "b3b6ef7a-8bab-44ab-a400-24ae81fdfe3c",
   "metadata": {},
   "outputs": [],
   "source": [
    "df_20_graus['desvio_absoluto_100'] = df_20_graus[0.1] - t_media_100_20\n",
    "df_20_graus['desvio_absoluto_200'] = df_20_graus[0.2] - t_media_200_20\n",
    "df_20_graus['desvio_absoluto_300'] = df_20_graus[0.3] - t_media_300_20\n",
    "df_20_graus['desvio_absoluto_400'] = df_20_graus[0.4] - t_media_400_20"
   ]
  },
  {
   "cell_type": "code",
   "execution_count": 1282,
   "id": "1108867f-c6f8-4e34-8457-4d9c891424c6",
   "metadata": {},
   "outputs": [],
   "source": [
    "df_20_graus['desvio_absoluto_100_modulo'] = df_20_graus['desvio_absoluto_100'].abs()\n",
    "df_20_graus['desvio_absoluto_200_modulo'] = df_20_graus['desvio_absoluto_200'].abs()\n",
    "df_20_graus['desvio_absoluto_300_modulo'] = df_20_graus['desvio_absoluto_300'].abs()\n",
    "df_20_graus['desvio_absoluto_400_modulo'] = df_20_graus['desvio_absoluto_400'].abs()"
   ]
  },
  {
   "cell_type": "code",
   "execution_count": 1283,
   "id": "8a8d691d-ad31-41c4-8290-5c3394d6e17d",
   "metadata": {},
   "outputs": [],
   "source": [
    "incerteza_100_20 = (1/len(df_20_graus))*df_20_graus['desvio_absoluto_100_modulo'].sum()\n",
    "incerteza_200_20 = (1/len(df_20_graus))*df_20_graus['desvio_absoluto_200_modulo'].sum()\n",
    "incerteza_300_20 = (1/len(df_20_graus))*df_20_graus['desvio_absoluto_300_modulo'].sum()\n",
    "incerteza_400_20 = (1/len(df_20_graus))*df_20_graus['desvio_absoluto_400_modulo'].sum()\n",
    "media_incertezas_20_graus = (incerteza_100_20+incerteza_200_20+incerteza_300_20+incerteza_400_20)/4"
   ]
  },
  {
   "cell_type": "code",
   "execution_count": 1284,
   "id": "1ead41fa-0596-47d5-994b-1cb83f513857",
   "metadata": {},
   "outputs": [
    {
     "data": {
      "text/html": [
       "<div>\n",
       "<style scoped>\n",
       "    .dataframe tbody tr th:only-of-type {\n",
       "        vertical-align: middle;\n",
       "    }\n",
       "\n",
       "    .dataframe tbody tr th {\n",
       "        vertical-align: top;\n",
       "    }\n",
       "\n",
       "    .dataframe thead th {\n",
       "        text-align: right;\n",
       "    }\n",
       "</style>\n",
       "<table border=\"1\" class=\"dataframe\">\n",
       "  <thead>\n",
       "    <tr style=\"text-align: right;\">\n",
       "      <th></th>\n",
       "      <th>0.0</th>\n",
       "      <th>0.1</th>\n",
       "      <th>0.2</th>\n",
       "      <th>0.3</th>\n",
       "      <th>0.4</th>\n",
       "      <th>desvio_absoluto_100</th>\n",
       "      <th>desvio_absoluto_200</th>\n",
       "      <th>desvio_absoluto_300</th>\n",
       "      <th>desvio_absoluto_400</th>\n",
       "    </tr>\n",
       "  </thead>\n",
       "  <tbody>\n",
       "    <tr>\n",
       "      <th>t1</th>\n",
       "      <td>0.0</td>\n",
       "      <td>4.72</td>\n",
       "      <td>9.53</td>\n",
       "      <td>14.26</td>\n",
       "      <td>18.92</td>\n",
       "      <td>0.116667</td>\n",
       "      <td>0.086667</td>\n",
       "      <td>-0.116667</td>\n",
       "      <td>-0.483333</td>\n",
       "    </tr>\n",
       "    <tr>\n",
       "      <th>t2</th>\n",
       "      <td>0.0</td>\n",
       "      <td>4.81</td>\n",
       "      <td>9.66</td>\n",
       "      <td>15.13</td>\n",
       "      <td>20.44</td>\n",
       "      <td>0.206667</td>\n",
       "      <td>0.216667</td>\n",
       "      <td>0.753333</td>\n",
       "      <td>1.036667</td>\n",
       "    </tr>\n",
       "    <tr>\n",
       "      <th>t3</th>\n",
       "      <td>0.0</td>\n",
       "      <td>4.28</td>\n",
       "      <td>9.14</td>\n",
       "      <td>13.74</td>\n",
       "      <td>18.85</td>\n",
       "      <td>-0.323333</td>\n",
       "      <td>-0.303333</td>\n",
       "      <td>-0.636667</td>\n",
       "      <td>-0.553333</td>\n",
       "    </tr>\n",
       "  </tbody>\n",
       "</table>\n",
       "</div>"
      ],
      "text/plain": [
       "    0.0   0.1   0.2    0.3    0.4  desvio_absoluto_100  desvio_absoluto_200  \\\n",
       "t1  0.0  4.72  9.53  14.26  18.92             0.116667             0.086667   \n",
       "t2  0.0  4.81  9.66  15.13  20.44             0.206667             0.216667   \n",
       "t3  0.0  4.28  9.14  13.74  18.85            -0.323333            -0.303333   \n",
       "\n",
       "    desvio_absoluto_300  desvio_absoluto_400  \n",
       "t1            -0.116667            -0.483333  \n",
       "t2             0.753333             1.036667  \n",
       "t3            -0.636667            -0.553333  "
      ]
     },
     "execution_count": 1284,
     "metadata": {},
     "output_type": "execute_result"
    }
   ],
   "source": [
    "df_20_graus = df_20_graus.drop(columns=['desvio_absoluto_100_modulo', 'desvio_absoluto_200_modulo', 'desvio_absoluto_300_modulo', 'desvio_absoluto_400_modulo'], axis=1)\n",
    "df_20_graus"
   ]
  },
  {
   "cell_type": "code",
   "execution_count": 1285,
   "id": "2f415f86-adea-46e9-a885-117f588d13af",
   "metadata": {},
   "outputs": [
    {
     "data": {
      "text/html": [
       "<div>\n",
       "<style scoped>\n",
       "    .dataframe tbody tr th:only-of-type {\n",
       "        vertical-align: middle;\n",
       "    }\n",
       "\n",
       "    .dataframe tbody tr th {\n",
       "        vertical-align: top;\n",
       "    }\n",
       "\n",
       "    .dataframe thead th {\n",
       "        text-align: right;\n",
       "    }\n",
       "</style>\n",
       "<table border=\"1\" class=\"dataframe\">\n",
       "  <thead>\n",
       "    <tr style=\"text-align: right;\">\n",
       "      <th></th>\n",
       "      <th>Ângulo: 20º</th>\n",
       "    </tr>\n",
       "  </thead>\n",
       "  <tbody>\n",
       "    <tr>\n",
       "      <th>100mm</th>\n",
       "      <td>0.215556</td>\n",
       "    </tr>\n",
       "    <tr>\n",
       "      <th>200mm</th>\n",
       "      <td>0.202222</td>\n",
       "    </tr>\n",
       "    <tr>\n",
       "      <th>300mm</th>\n",
       "      <td>0.502222</td>\n",
       "    </tr>\n",
       "    <tr>\n",
       "      <th>400mm</th>\n",
       "      <td>0.691111</td>\n",
       "    </tr>\n",
       "    <tr>\n",
       "      <th>Média de Incertezas</th>\n",
       "      <td>0.402778</td>\n",
       "    </tr>\n",
       "  </tbody>\n",
       "</table>\n",
       "</div>"
      ],
      "text/plain": [
       "                     Ângulo: 20º\n",
       "100mm                   0.215556\n",
       "200mm                   0.202222\n",
       "300mm                   0.502222\n",
       "400mm                   0.691111\n",
       "Média de Incertezas     0.402778"
      ]
     },
     "execution_count": 1285,
     "metadata": {},
     "output_type": "execute_result"
    }
   ],
   "source": [
    "incertezas_20_graus = pd.DataFrame(data=[incerteza_100_20, incerteza_200_20, incerteza_300_20, incerteza_400_20, media_incertezas_20_graus],\n",
    "                                  index=['100mm', '200mm', '300mm', '400mm', 'Média de Incertezas'],\n",
    "                                  columns=['Ângulo: 20º'])\n",
    "incertezas_20_graus"
   ]
  },
  {
   "cell_type": "markdown",
   "id": "57787232-b9f8-484f-8f35-bf52698c8f7c",
   "metadata": {},
   "source": [
    "#### Incertezas tempo em 30º"
   ]
  },
  {
   "cell_type": "code",
   "execution_count": 1286,
   "id": "25a5762c-e63f-49b4-86d8-6a9b7443d7d2",
   "metadata": {},
   "outputs": [],
   "source": [
    "t_media_100_30 = ((1/len(df_30_graus))*(df_30_graus[0.1].sum()))\n",
    "t_media_200_30 = ((1/len(df_30_graus))*(df_30_graus[0.2].sum()))\n",
    "t_media_300_30 = ((1/len(df_30_graus))*(df_30_graus[0.3].sum()))\n",
    "t_media_400_30 = ((1/len(df_30_graus))*(df_30_graus[0.4].sum()))"
   ]
  },
  {
   "cell_type": "code",
   "execution_count": 1287,
   "id": "62f89848-afd6-4e6a-adfc-2d9a1e4807be",
   "metadata": {},
   "outputs": [
    {
     "name": "stdout",
     "output_type": "stream",
     "text": [
      "t médio para 100mm no ângulo 10: 2.663333333333333\n",
      "t médio para 200mm no ângulo 10: 5.423333333333333\n",
      "t médio para 300mm no ângulo 10: 14.376666666666667\n",
      "t médio para 400mm no ângulo 10: 10.903333333333332\n"
     ]
    }
   ],
   "source": [
    "print(f't médio para 100mm no ângulo 10: {t_media_100_30}')\n",
    "print(f't médio para 200mm no ângulo 10: {t_media_200_30}')\n",
    "print(f't médio para 300mm no ângulo 10: {t_media_300_20}')\n",
    "print(f't médio para 400mm no ângulo 10: {t_media_400_30}')"
   ]
  },
  {
   "cell_type": "code",
   "execution_count": 1288,
   "id": "dc7342de-3a5e-43f5-805e-09b53ddf384d",
   "metadata": {},
   "outputs": [],
   "source": [
    "df_30_graus['desvio_absoluto_100'] = df_30_graus[0.1] - t_media_100_30\n",
    "df_30_graus['desvio_absoluto_200'] = df_30_graus[0.2] - t_media_200_30\n",
    "df_30_graus['desvio_absoluto_300'] = df_30_graus[0.3] - t_media_300_20\n",
    "df_30_graus['desvio_absoluto_400'] = df_30_graus[0.4] - t_media_400_30"
   ]
  },
  {
   "cell_type": "code",
   "execution_count": 1289,
   "id": "71dfd198-a532-4c7e-971a-4a4b9f96dd52",
   "metadata": {},
   "outputs": [],
   "source": [
    "df_30_graus['desvio_absoluto_100_modulo'] = df_30_graus['desvio_absoluto_100'].abs()\n",
    "df_30_graus['desvio_absoluto_200_modulo'] = df_30_graus['desvio_absoluto_200'].abs()\n",
    "df_30_graus['desvio_absoluto_300_modulo'] = df_30_graus['desvio_absoluto_300'].abs()\n",
    "df_30_graus['desvio_absoluto_400_modulo'] = df_30_graus['desvio_absoluto_400'].abs()"
   ]
  },
  {
   "cell_type": "code",
   "execution_count": 1290,
   "id": "e7098fb2-8c9c-42af-988a-875694e3dc3d",
   "metadata": {},
   "outputs": [],
   "source": [
    "incerteza_100_30 = (1/len(df_30_graus))*df_30_graus['desvio_absoluto_100_modulo'].sum()\n",
    "incerteza_200_30 = (1/len(df_30_graus))*df_30_graus['desvio_absoluto_200_modulo'].sum()\n",
    "incerteza_300_30 = (1/len(df_30_graus))*df_30_graus['desvio_absoluto_300_modulo'].sum()\n",
    "incerteza_400_30 = (1/len(df_30_graus))*df_30_graus['desvio_absoluto_400_modulo'].sum()\n",
    "media_incertezas_30_graus = (incerteza_100_30+incerteza_200_30+incerteza_300_30+incerteza_400_30)/4"
   ]
  },
  {
   "cell_type": "code",
   "execution_count": 1291,
   "id": "5e15a7bb-feeb-4013-abd9-ca9a8e0b52ac",
   "metadata": {},
   "outputs": [
    {
     "data": {
      "text/html": [
       "<div>\n",
       "<style scoped>\n",
       "    .dataframe tbody tr th:only-of-type {\n",
       "        vertical-align: middle;\n",
       "    }\n",
       "\n",
       "    .dataframe tbody tr th {\n",
       "        vertical-align: top;\n",
       "    }\n",
       "\n",
       "    .dataframe thead th {\n",
       "        text-align: right;\n",
       "    }\n",
       "</style>\n",
       "<table border=\"1\" class=\"dataframe\">\n",
       "  <thead>\n",
       "    <tr style=\"text-align: right;\">\n",
       "      <th></th>\n",
       "      <th>0.0</th>\n",
       "      <th>0.1</th>\n",
       "      <th>0.2</th>\n",
       "      <th>0.3</th>\n",
       "      <th>0.4</th>\n",
       "      <th>desvio_absoluto_100</th>\n",
       "      <th>desvio_absoluto_200</th>\n",
       "      <th>desvio_absoluto_300</th>\n",
       "      <th>desvio_absoluto_400</th>\n",
       "    </tr>\n",
       "  </thead>\n",
       "  <tbody>\n",
       "    <tr>\n",
       "      <th>t1</th>\n",
       "      <td>0.0</td>\n",
       "      <td>2.65</td>\n",
       "      <td>5.18</td>\n",
       "      <td>8.06</td>\n",
       "      <td>10.56</td>\n",
       "      <td>-0.013333</td>\n",
       "      <td>-0.243333</td>\n",
       "      <td>-6.316667</td>\n",
       "      <td>-0.343333</td>\n",
       "    </tr>\n",
       "    <tr>\n",
       "      <th>t2</th>\n",
       "      <td>0.0</td>\n",
       "      <td>2.70</td>\n",
       "      <td>5.49</td>\n",
       "      <td>8.33</td>\n",
       "      <td>11.09</td>\n",
       "      <td>0.036667</td>\n",
       "      <td>0.066667</td>\n",
       "      <td>-6.046667</td>\n",
       "      <td>0.186667</td>\n",
       "    </tr>\n",
       "    <tr>\n",
       "      <th>t3</th>\n",
       "      <td>0.0</td>\n",
       "      <td>2.64</td>\n",
       "      <td>5.60</td>\n",
       "      <td>8.36</td>\n",
       "      <td>11.06</td>\n",
       "      <td>-0.023333</td>\n",
       "      <td>0.176667</td>\n",
       "      <td>-6.016667</td>\n",
       "      <td>0.156667</td>\n",
       "    </tr>\n",
       "  </tbody>\n",
       "</table>\n",
       "</div>"
      ],
      "text/plain": [
       "    0.0   0.1   0.2   0.3    0.4  desvio_absoluto_100  desvio_absoluto_200  \\\n",
       "t1  0.0  2.65  5.18  8.06  10.56            -0.013333            -0.243333   \n",
       "t2  0.0  2.70  5.49  8.33  11.09             0.036667             0.066667   \n",
       "t3  0.0  2.64  5.60  8.36  11.06            -0.023333             0.176667   \n",
       "\n",
       "    desvio_absoluto_300  desvio_absoluto_400  \n",
       "t1            -6.316667            -0.343333  \n",
       "t2            -6.046667             0.186667  \n",
       "t3            -6.016667             0.156667  "
      ]
     },
     "execution_count": 1291,
     "metadata": {},
     "output_type": "execute_result"
    }
   ],
   "source": [
    "df_30_graus = df_30_graus.drop(columns=['desvio_absoluto_100_modulo', 'desvio_absoluto_200_modulo', 'desvio_absoluto_300_modulo', 'desvio_absoluto_400_modulo'], axis=1)\n",
    "df_30_graus"
   ]
  },
  {
   "cell_type": "code",
   "execution_count": 1292,
   "id": "ce673764-e9de-492b-ab4e-c2ed81a5ce7e",
   "metadata": {},
   "outputs": [
    {
     "data": {
      "text/html": [
       "<div>\n",
       "<style scoped>\n",
       "    .dataframe tbody tr th:only-of-type {\n",
       "        vertical-align: middle;\n",
       "    }\n",
       "\n",
       "    .dataframe tbody tr th {\n",
       "        vertical-align: top;\n",
       "    }\n",
       "\n",
       "    .dataframe thead th {\n",
       "        text-align: right;\n",
       "    }\n",
       "</style>\n",
       "<table border=\"1\" class=\"dataframe\">\n",
       "  <thead>\n",
       "    <tr style=\"text-align: right;\">\n",
       "      <th></th>\n",
       "      <th>Ângulo: 30º</th>\n",
       "    </tr>\n",
       "  </thead>\n",
       "  <tbody>\n",
       "    <tr>\n",
       "      <th>100mm</th>\n",
       "      <td>0.024444</td>\n",
       "    </tr>\n",
       "    <tr>\n",
       "      <th>200mm</th>\n",
       "      <td>0.162222</td>\n",
       "    </tr>\n",
       "    <tr>\n",
       "      <th>300mm</th>\n",
       "      <td>6.126667</td>\n",
       "    </tr>\n",
       "    <tr>\n",
       "      <th>400mm</th>\n",
       "      <td>0.228889</td>\n",
       "    </tr>\n",
       "    <tr>\n",
       "      <th>Média de Incertezas</th>\n",
       "      <td>1.635556</td>\n",
       "    </tr>\n",
       "  </tbody>\n",
       "</table>\n",
       "</div>"
      ],
      "text/plain": [
       "                     Ângulo: 30º\n",
       "100mm                   0.024444\n",
       "200mm                   0.162222\n",
       "300mm                   6.126667\n",
       "400mm                   0.228889\n",
       "Média de Incertezas     1.635556"
      ]
     },
     "execution_count": 1292,
     "metadata": {},
     "output_type": "execute_result"
    }
   ],
   "source": [
    "incertezas_30_graus = pd.DataFrame(data=[incerteza_100_30, incerteza_200_30, incerteza_300_30, incerteza_400_30, media_incertezas_30_graus],\n",
    "                                  index=['100mm', '200mm', '300mm', '400mm', 'Média de Incertezas'],\n",
    "                                  columns=['Ângulo: 30º'])\n",
    "incertezas_30_graus"
   ]
  },
  {
   "cell_type": "markdown",
   "id": "74f5eb7f-76e1-4fd4-b854-7966e961dcac",
   "metadata": {},
   "source": [
    "## Incertezas Tempo 40º"
   ]
  },
  {
   "cell_type": "code",
   "execution_count": 1293,
   "id": "04a83ae8-5010-4ccf-bcc1-a9fac3788360",
   "metadata": {},
   "outputs": [],
   "source": [
    "t_media_100_40 = ((1/len(df_40_graus))*(df_40_graus[0.1].sum()))\n",
    "t_media_200_40 = ((1/len(df_40_graus))*(df_40_graus[0.2].sum()))\n",
    "t_media_300_40 = ((1/len(df_40_graus))*(df_40_graus[0.3].sum()))\n",
    "t_media_400_40 = ((1/len(df_40_graus))*(df_40_graus[0.4].sum()))"
   ]
  },
  {
   "cell_type": "code",
   "execution_count": 1294,
   "id": "259706a3-a931-4907-8912-623fb7de0786",
   "metadata": {},
   "outputs": [
    {
     "name": "stdout",
     "output_type": "stream",
     "text": [
      "t médio para 100mm no ângulo 10: 1.55\n",
      "t médio para 200mm no ângulo 10: 3.1666666666666665\n",
      "t médio para 300mm no ângulo 10: 4.773333333333333\n",
      "t médio para 400mm no ângulo 10: 6.333333333333333\n"
     ]
    }
   ],
   "source": [
    "print(f't médio para 100mm no ângulo 10: {t_media_100_40}')\n",
    "print(f't médio para 200mm no ângulo 10: {t_media_200_40}')\n",
    "print(f't médio para 300mm no ângulo 10: {t_media_300_40}')\n",
    "print(f't médio para 400mm no ângulo 10: {t_media_400_40}')"
   ]
  },
  {
   "cell_type": "code",
   "execution_count": 1295,
   "id": "14fe1ee1-5cde-4653-a83f-d78239d8d148",
   "metadata": {},
   "outputs": [],
   "source": [
    "df_40_graus['desvio_absoluto_100'] = df_40_graus[0.1] - t_media_100_40\n",
    "df_40_graus['desvio_absoluto_200'] = df_40_graus[0.2] - t_media_200_40\n",
    "df_40_graus['desvio_absoluto_300'] = df_40_graus[0.3] - t_media_300_40\n",
    "df_40_graus['desvio_absoluto_400'] = df_40_graus[0.4] - t_media_400_40"
   ]
  },
  {
   "cell_type": "code",
   "execution_count": 1296,
   "id": "2a782eae-9b05-4d80-b1ba-0ed1a6dbb29d",
   "metadata": {},
   "outputs": [],
   "source": [
    "df_40_graus['desvio_absoluto_100_modulo'] = df_40_graus['desvio_absoluto_100'].abs()\n",
    "df_40_graus['desvio_absoluto_200_modulo'] = df_40_graus['desvio_absoluto_200'].abs()\n",
    "df_40_graus['desvio_absoluto_300_modulo'] = df_40_graus['desvio_absoluto_300'].abs()\n",
    "df_40_graus['desvio_absoluto_400_modulo'] = df_40_graus['desvio_absoluto_400'].abs()"
   ]
  },
  {
   "cell_type": "code",
   "execution_count": 1297,
   "id": "54e22007-90ab-4ad5-ba14-50499b22f9ff",
   "metadata": {},
   "outputs": [],
   "source": [
    "incerteza_100_40 = (1/len(df_40_graus))*df_40_graus['desvio_absoluto_100_modulo'].sum()\n",
    "incerteza_200_40 = (1/len(df_40_graus))*df_40_graus['desvio_absoluto_200_modulo'].sum()\n",
    "incerteza_300_40 = (1/len(df_40_graus))*df_40_graus['desvio_absoluto_300_modulo'].sum()\n",
    "incerteza_400_40 = (1/len(df_40_graus))*df_40_graus['desvio_absoluto_400_modulo'].sum()\n",
    "media_incertezas_40_graus = (incerteza_100_40+incerteza_200_40+incerteza_300_40+incerteza_400_40)/4"
   ]
  },
  {
   "cell_type": "code",
   "execution_count": 1298,
   "id": "8a70f179-0587-426c-8331-213464fb1666",
   "metadata": {},
   "outputs": [
    {
     "data": {
      "text/html": [
       "<div>\n",
       "<style scoped>\n",
       "    .dataframe tbody tr th:only-of-type {\n",
       "        vertical-align: middle;\n",
       "    }\n",
       "\n",
       "    .dataframe tbody tr th {\n",
       "        vertical-align: top;\n",
       "    }\n",
       "\n",
       "    .dataframe thead th {\n",
       "        text-align: right;\n",
       "    }\n",
       "</style>\n",
       "<table border=\"1\" class=\"dataframe\">\n",
       "  <thead>\n",
       "    <tr style=\"text-align: right;\">\n",
       "      <th></th>\n",
       "      <th>0.0</th>\n",
       "      <th>0.1</th>\n",
       "      <th>0.2</th>\n",
       "      <th>0.3</th>\n",
       "      <th>0.4</th>\n",
       "      <th>desvio_absoluto_100</th>\n",
       "      <th>desvio_absoluto_200</th>\n",
       "      <th>desvio_absoluto_300</th>\n",
       "      <th>desvio_absoluto_400</th>\n",
       "    </tr>\n",
       "  </thead>\n",
       "  <tbody>\n",
       "    <tr>\n",
       "      <th>t1</th>\n",
       "      <td>0.0</td>\n",
       "      <td>1.46</td>\n",
       "      <td>3.12</td>\n",
       "      <td>4.71</td>\n",
       "      <td>6.37</td>\n",
       "      <td>-0.09</td>\n",
       "      <td>-0.046667</td>\n",
       "      <td>-0.063333</td>\n",
       "      <td>0.036667</td>\n",
       "    </tr>\n",
       "    <tr>\n",
       "      <th>t2</th>\n",
       "      <td>0.0</td>\n",
       "      <td>1.59</td>\n",
       "      <td>3.51</td>\n",
       "      <td>4.87</td>\n",
       "      <td>6.52</td>\n",
       "      <td>0.04</td>\n",
       "      <td>0.343333</td>\n",
       "      <td>0.096667</td>\n",
       "      <td>0.186667</td>\n",
       "    </tr>\n",
       "    <tr>\n",
       "      <th>t3</th>\n",
       "      <td>0.0</td>\n",
       "      <td>1.60</td>\n",
       "      <td>2.87</td>\n",
       "      <td>4.74</td>\n",
       "      <td>6.11</td>\n",
       "      <td>0.05</td>\n",
       "      <td>-0.296667</td>\n",
       "      <td>-0.033333</td>\n",
       "      <td>-0.223333</td>\n",
       "    </tr>\n",
       "  </tbody>\n",
       "</table>\n",
       "</div>"
      ],
      "text/plain": [
       "    0.0   0.1   0.2   0.3   0.4  desvio_absoluto_100  desvio_absoluto_200  \\\n",
       "t1  0.0  1.46  3.12  4.71  6.37                -0.09            -0.046667   \n",
       "t2  0.0  1.59  3.51  4.87  6.52                 0.04             0.343333   \n",
       "t3  0.0  1.60  2.87  4.74  6.11                 0.05            -0.296667   \n",
       "\n",
       "    desvio_absoluto_300  desvio_absoluto_400  \n",
       "t1            -0.063333             0.036667  \n",
       "t2             0.096667             0.186667  \n",
       "t3            -0.033333            -0.223333  "
      ]
     },
     "execution_count": 1298,
     "metadata": {},
     "output_type": "execute_result"
    }
   ],
   "source": [
    "df_40_graus = df_40_graus.drop(columns=['desvio_absoluto_100_modulo', 'desvio_absoluto_200_modulo', 'desvio_absoluto_300_modulo', 'desvio_absoluto_400_modulo'], axis=1)\n",
    "df_40_graus"
   ]
  },
  {
   "cell_type": "code",
   "execution_count": 1299,
   "id": "ed7105fd-8327-40fd-aff6-22b1aa1cc15f",
   "metadata": {},
   "outputs": [
    {
     "data": {
      "text/html": [
       "<div>\n",
       "<style scoped>\n",
       "    .dataframe tbody tr th:only-of-type {\n",
       "        vertical-align: middle;\n",
       "    }\n",
       "\n",
       "    .dataframe tbody tr th {\n",
       "        vertical-align: top;\n",
       "    }\n",
       "\n",
       "    .dataframe thead th {\n",
       "        text-align: right;\n",
       "    }\n",
       "</style>\n",
       "<table border=\"1\" class=\"dataframe\">\n",
       "  <thead>\n",
       "    <tr style=\"text-align: right;\">\n",
       "      <th></th>\n",
       "      <th>Ângulo: 40º</th>\n",
       "    </tr>\n",
       "  </thead>\n",
       "  <tbody>\n",
       "    <tr>\n",
       "      <th>100mm</th>\n",
       "      <td>0.060000</td>\n",
       "    </tr>\n",
       "    <tr>\n",
       "      <th>200mm</th>\n",
       "      <td>0.228889</td>\n",
       "    </tr>\n",
       "    <tr>\n",
       "      <th>300mm</th>\n",
       "      <td>0.064444</td>\n",
       "    </tr>\n",
       "    <tr>\n",
       "      <th>400mm</th>\n",
       "      <td>0.148889</td>\n",
       "    </tr>\n",
       "    <tr>\n",
       "      <th>Média de Incertezas</th>\n",
       "      <td>0.125556</td>\n",
       "    </tr>\n",
       "  </tbody>\n",
       "</table>\n",
       "</div>"
      ],
      "text/plain": [
       "                     Ângulo: 40º\n",
       "100mm                   0.060000\n",
       "200mm                   0.228889\n",
       "300mm                   0.064444\n",
       "400mm                   0.148889\n",
       "Média de Incertezas     0.125556"
      ]
     },
     "execution_count": 1299,
     "metadata": {},
     "output_type": "execute_result"
    }
   ],
   "source": [
    "incertezas_40_graus = pd.DataFrame(data=[incerteza_100_40, incerteza_200_40, incerteza_300_40, incerteza_400_40, media_incertezas_40_graus],\n",
    "                                  index=['100mm', '200mm', '300mm', '400mm', 'Média de Incertezas'],\n",
    "                                  columns=['Ângulo: 40º'])\n",
    "incertezas_40_graus"
   ]
  },
  {
   "cell_type": "markdown",
   "id": "10b9d6eb-5c74-429c-9d91-c4804fdc9419",
   "metadata": {},
   "source": [
    "#### Tempos médios (média)"
   ]
  },
  {
   "cell_type": "code",
   "execution_count": 1300,
   "id": "ff0d1d74-eb8b-4a2a-be7f-cf9c4cc69a7d",
   "metadata": {},
   "outputs": [],
   "source": [
    "t_10_graus_media = (t_media_100_10+t_media_200_10+t_media_300_10+t_media_400_10)/4\n",
    "t_20_graus_media = (t_media_100_20+t_media_200_20+t_media_300_20+t_media_400_20)/4\n",
    "t_30_graus_media = (t_media_100_30+t_media_200_30+t_media_300_30+t_media_400_30)/4\n",
    "t_40_graus_media = (t_media_100_40+t_media_200_40+t_media_300_40+t_media_400_40)/4"
   ]
  },
  {
   "cell_type": "markdown",
   "id": "7595b0dd-f59b-44cd-a879-04bdde240bd8",
   "metadata": {},
   "source": [
    "## Análise de Incertezas"
   ]
  },
  {
   "cell_type": "markdown",
   "id": "3728fefa-29f0-4d11-b049-a67692b3242a",
   "metadata": {},
   "source": [
    "* Abaixo estão as respostas de desvios absolutos para cada ângulo em cada momento do espaço;\n",
    "* Como são muitas incertezas foi tirado a média de desvios absolutos para cada angulação (que será nossa resposta)."
   ]
  },
  {
   "cell_type": "code",
   "execution_count": 1301,
   "id": "763a9834-62d5-4f1c-80da-c2a261563328",
   "metadata": {},
   "outputs": [
    {
     "data": {
      "text/html": [
       "<div>\n",
       "<style scoped>\n",
       "    .dataframe tbody tr th:only-of-type {\n",
       "        vertical-align: middle;\n",
       "    }\n",
       "\n",
       "    .dataframe tbody tr th {\n",
       "        vertical-align: top;\n",
       "    }\n",
       "\n",
       "    .dataframe thead th {\n",
       "        text-align: right;\n",
       "    }\n",
       "</style>\n",
       "<table border=\"1\" class=\"dataframe\">\n",
       "  <thead>\n",
       "    <tr style=\"text-align: right;\">\n",
       "      <th></th>\n",
       "      <th>Ângulo: 10º</th>\n",
       "      <th>Ângulo: 20º</th>\n",
       "      <th>Ângulo: 30º</th>\n",
       "      <th>Ângulo: 40º</th>\n",
       "    </tr>\n",
       "  </thead>\n",
       "  <tbody>\n",
       "    <tr>\n",
       "      <th>100mm</th>\n",
       "      <td>0.351111</td>\n",
       "      <td>0.215556</td>\n",
       "      <td>0.024444</td>\n",
       "      <td>0.060000</td>\n",
       "    </tr>\n",
       "    <tr>\n",
       "      <th>200mm</th>\n",
       "      <td>1.044444</td>\n",
       "      <td>0.202222</td>\n",
       "      <td>0.162222</td>\n",
       "      <td>0.228889</td>\n",
       "    </tr>\n",
       "    <tr>\n",
       "      <th>300mm</th>\n",
       "      <td>1.664444</td>\n",
       "      <td>0.502222</td>\n",
       "      <td>6.126667</td>\n",
       "      <td>0.064444</td>\n",
       "    </tr>\n",
       "    <tr>\n",
       "      <th>400mm</th>\n",
       "      <td>2.204444</td>\n",
       "      <td>0.691111</td>\n",
       "      <td>0.228889</td>\n",
       "      <td>0.148889</td>\n",
       "    </tr>\n",
       "    <tr>\n",
       "      <th>Média de Incertezas</th>\n",
       "      <td>1.316111</td>\n",
       "      <td>0.402778</td>\n",
       "      <td>1.635556</td>\n",
       "      <td>0.125556</td>\n",
       "    </tr>\n",
       "  </tbody>\n",
       "</table>\n",
       "</div>"
      ],
      "text/plain": [
       "                     Ângulo: 10º  Ângulo: 20º  Ângulo: 30º  Ângulo: 40º\n",
       "100mm                   0.351111     0.215556     0.024444     0.060000\n",
       "200mm                   1.044444     0.202222     0.162222     0.228889\n",
       "300mm                   1.664444     0.502222     6.126667     0.064444\n",
       "400mm                   2.204444     0.691111     0.228889     0.148889\n",
       "Média de Incertezas     1.316111     0.402778     1.635556     0.125556"
      ]
     },
     "execution_count": 1301,
     "metadata": {},
     "output_type": "execute_result"
    }
   ],
   "source": [
    "df_incertezas = pd.concat([incertezas_10_graus, incertezas_20_graus, incertezas_30_graus, incertezas_40_graus], axis=1)\n",
    "df_incertezas"
   ]
  },
  {
   "cell_type": "code",
   "execution_count": 1302,
   "id": "ef448c28-3eec-4dad-beca-ce7fc484c0fd",
   "metadata": {},
   "outputs": [],
   "source": [
    "dados_incertezas = {\n",
    "    'Incerteza Absoluta 10º (Tempo+-Desvio)' : [f'{round(t_10_graus_media,3)} +- {round(media_incertezas_10_graus,3)}'],\n",
    "    'Incerteza Absoluta 20º (Tempo+-Desvio)' : [f'{round(t_20_graus_media,3)} +- {round(media_incertezas_20_graus,3)}'],\n",
    "    'Incerteza Absoluta 30º (Tempo+-Desvio)' : [f'{round(t_30_graus_media,3)} +- {round(media_incertezas_30_graus,3)}'],\n",
    "    'Incerteza Absoluta 40º (Tempo+-Desvio)' : [f'{round(t_40_graus_media,3)} +- {round(media_incertezas_40_graus,3)}'],\n",
    "}"
   ]
  },
  {
   "cell_type": "code",
   "execution_count": 1303,
   "id": "715bda10-414f-404b-8196-497831c87b5d",
   "metadata": {},
   "outputs": [
    {
     "data": {
      "text/html": [
       "<div>\n",
       "<style scoped>\n",
       "    .dataframe tbody tr th:only-of-type {\n",
       "        vertical-align: middle;\n",
       "    }\n",
       "\n",
       "    .dataframe tbody tr th {\n",
       "        vertical-align: top;\n",
       "    }\n",
       "\n",
       "    .dataframe thead th {\n",
       "        text-align: right;\n",
       "    }\n",
       "</style>\n",
       "<table border=\"1\" class=\"dataframe\">\n",
       "  <thead>\n",
       "    <tr style=\"text-align: right;\">\n",
       "      <th></th>\n",
       "      <th>0</th>\n",
       "    </tr>\n",
       "  </thead>\n",
       "  <tbody>\n",
       "    <tr>\n",
       "      <th>Incerteza Absoluta 10º (Tempo+-Desvio)</th>\n",
       "      <td>29.691 +- 1.316</td>\n",
       "    </tr>\n",
       "    <tr>\n",
       "      <th>Incerteza Absoluta 20º (Tempo+-Desvio)</th>\n",
       "      <td>11.957 +- 0.403</td>\n",
       "    </tr>\n",
       "    <tr>\n",
       "      <th>Incerteza Absoluta 30º (Tempo+-Desvio)</th>\n",
       "      <td>6.81 +- 1.636</td>\n",
       "    </tr>\n",
       "    <tr>\n",
       "      <th>Incerteza Absoluta 40º (Tempo+-Desvio)</th>\n",
       "      <td>3.956 +- 0.126</td>\n",
       "    </tr>\n",
       "  </tbody>\n",
       "</table>\n",
       "</div>"
      ],
      "text/plain": [
       "                                                      0\n",
       "Incerteza Absoluta 10º (Tempo+-Desvio)  29.691 +- 1.316\n",
       "Incerteza Absoluta 20º (Tempo+-Desvio)  11.957 +- 0.403\n",
       "Incerteza Absoluta 30º (Tempo+-Desvio)    6.81 +- 1.636\n",
       "Incerteza Absoluta 40º (Tempo+-Desvio)   3.956 +- 0.126"
      ]
     },
     "execution_count": 1303,
     "metadata": {},
     "output_type": "execute_result"
    }
   ],
   "source": [
    "df_incertezas_resposta_final = pd.DataFrame(dados_incertezas).T\n",
    "df_incertezas_resposta_final"
   ]
  },
  {
   "cell_type": "markdown",
   "id": "06e24041-6cf5-470a-83d4-c044c56d6386",
   "metadata": {},
   "source": [
    "# Objetivo 5\n",
    "5- Indique a incerteza avaliada para a velocidade da esfera \n",
    "em cada um dos ângulos θ."
   ]
  },
  {
   "cell_type": "markdown",
   "id": "17fa1861-50a1-4bae-a079-4d344b0ba5ac",
   "metadata": {},
   "source": [
    "## Tratando dados"
   ]
  },
  {
   "cell_type": "code",
   "execution_count": 1304,
   "id": "abbd3d40-bdd5-4ba3-a291-fb4a943a928b",
   "metadata": {},
   "outputs": [],
   "source": [
    "df_10_graus=df_10_graus.drop(columns=['desvio_absoluto_100', 'desvio_absoluto_200', 'desvio_absoluto_300', 'desvio_absoluto_400'], axis=1).T\n",
    "df_20_graus=df_20_graus.drop(columns=['desvio_absoluto_100', 'desvio_absoluto_200', 'desvio_absoluto_300', 'desvio_absoluto_400'], axis=1).T\n",
    "df_30_graus=df_30_graus.drop(columns=['desvio_absoluto_100', 'desvio_absoluto_200', 'desvio_absoluto_300', 'desvio_absoluto_400'], axis=1).T\n",
    "df_40_graus=df_40_graus.drop(columns=['desvio_absoluto_100', 'desvio_absoluto_200', 'desvio_absoluto_300', 'desvio_absoluto_400'], axis=1).T"
   ]
  },
  {
   "cell_type": "code",
   "execution_count": 1305,
   "id": "52ac2d00-86ee-47d3-a0d5-0f35d10afcdd",
   "metadata": {},
   "outputs": [
    {
     "data": {
      "text/html": [
       "<div>\n",
       "<style scoped>\n",
       "    .dataframe tbody tr th:only-of-type {\n",
       "        vertical-align: middle;\n",
       "    }\n",
       "\n",
       "    .dataframe tbody tr th {\n",
       "        vertical-align: top;\n",
       "    }\n",
       "\n",
       "    .dataframe thead th {\n",
       "        text-align: right;\n",
       "    }\n",
       "</style>\n",
       "<table border=\"1\" class=\"dataframe\">\n",
       "  <thead>\n",
       "    <tr style=\"text-align: right;\">\n",
       "      <th></th>\n",
       "      <th>t1</th>\n",
       "      <th>t2</th>\n",
       "      <th>t3</th>\n",
       "    </tr>\n",
       "  </thead>\n",
       "  <tbody>\n",
       "    <tr>\n",
       "      <th>0.0</th>\n",
       "      <td>0.00</td>\n",
       "      <td>0.00</td>\n",
       "      <td>0.00</td>\n",
       "    </tr>\n",
       "    <tr>\n",
       "      <th>0.1</th>\n",
       "      <td>12.14</td>\n",
       "      <td>11.38</td>\n",
       "      <td>11.32</td>\n",
       "    </tr>\n",
       "    <tr>\n",
       "      <th>0.2</th>\n",
       "      <td>25.26</td>\n",
       "      <td>23.21</td>\n",
       "      <td>22.61</td>\n",
       "    </tr>\n",
       "    <tr>\n",
       "      <th>0.3</th>\n",
       "      <td>38.38</td>\n",
       "      <td>35.26</td>\n",
       "      <td>34.01</td>\n",
       "    </tr>\n",
       "    <tr>\n",
       "      <th>0.4</th>\n",
       "      <td>50.88</td>\n",
       "      <td>46.59</td>\n",
       "      <td>45.25</td>\n",
       "    </tr>\n",
       "  </tbody>\n",
       "</table>\n",
       "</div>"
      ],
      "text/plain": [
       "        t1     t2     t3\n",
       "0.0   0.00   0.00   0.00\n",
       "0.1  12.14  11.38  11.32\n",
       "0.2  25.26  23.21  22.61\n",
       "0.3  38.38  35.26  34.01\n",
       "0.4  50.88  46.59  45.25"
      ]
     },
     "execution_count": 1305,
     "metadata": {},
     "output_type": "execute_result"
    }
   ],
   "source": [
    "df_10_graus"
   ]
  },
  {
   "cell_type": "code",
   "execution_count": 1306,
   "id": "5a8d111c-14df-497a-9e5c-54e9aa3e430a",
   "metadata": {},
   "outputs": [],
   "source": [
    "df_10_graus.drop(0, inplace=True)\n",
    "df_20_graus.drop(0, inplace=True)\n",
    "df_30_graus.drop(0, inplace=True)\n",
    "df_40_graus.drop(0, inplace=True)"
   ]
  },
  {
   "cell_type": "code",
   "execution_count": 1307,
   "id": "fbaa5009-ee3c-4c43-a414-71f5198c3ee9",
   "metadata": {},
   "outputs": [],
   "source": [
    "lista_df = [df_10_graus, df_20_graus, df_30_graus, df_40_graus] "
   ]
  },
  {
   "cell_type": "code",
   "execution_count": 1308,
   "id": "675f2b48-a564-481c-a5d4-154f704b83ce",
   "metadata": {},
   "outputs": [],
   "source": [
    "for df in lista_df:\n",
    "    for col in df.columns:\n",
    "         df[f'velocidade_{col}'] = df.index/df[col]"
   ]
  },
  {
   "cell_type": "code",
   "execution_count": 1309,
   "id": "ff56bd06-3d29-4fb1-8eae-fc00573577db",
   "metadata": {},
   "outputs": [],
   "source": [
    "df_10_graus = df_10_graus.T.drop(df_10_graus.T.index[:3])\n",
    "df_20_graus = df_20_graus.T.drop(df_20_graus.T.index[:3])\n",
    "df_30_graus = df_30_graus.T.drop(df_30_graus.T.index[:3])\n",
    "df_40_graus = df_40_graus.T.drop(df_40_graus.T.index[:3])"
   ]
  },
  {
   "cell_type": "markdown",
   "id": "471ca3f5-7aa1-405c-943d-53653c508946",
   "metadata": {},
   "source": [
    "## Incerteza Velocidade 10º"
   ]
  },
  {
   "cell_type": "code",
   "execution_count": 1310,
   "id": "0d5c8dd2-8f48-4f2e-9e08-704cdfcb1c57",
   "metadata": {},
   "outputs": [],
   "source": [
    "v_media_100_10 = ((1/len(df_10_graus))*(df_10_graus[0.1].sum()))\n",
    "v_media_200_10 = ((1/len(df_10_graus))*(df_10_graus[0.2].sum()))\n",
    "v_media_300_10 = ((1/len(df_10_graus))*(df_10_graus[0.3].sum()))\n",
    "v_media_400_10 = ((1/len(df_10_graus))*(df_10_graus[0.4].sum()))"
   ]
  },
  {
   "cell_type": "code",
   "execution_count": 1311,
   "id": "9ce16e44-a30c-4e35-b3a8-b3d65f195b5b",
   "metadata": {},
   "outputs": [
    {
     "name": "stdout",
     "output_type": "stream",
     "text": [
      "t médio para 100mm no ângulo 10: 0.008619500257625265\n",
      "t médio para 200mm no ângulo 10: 0.008460091778633164\n",
      "t médio para 300mm no ângulo 10: 0.008381910255679735\n",
      "t médio para 400mm no ângulo 10: 0.00842898253397055\n"
     ]
    }
   ],
   "source": [
    "print(f't médio para 100mm no ângulo 10: {v_media_100_10}')\n",
    "print(f't médio para 200mm no ângulo 10: {v_media_200_10}')\n",
    "print(f't médio para 300mm no ângulo 10: {v_media_300_10}')\n",
    "print(f't médio para 400mm no ângulo 10: {v_media_400_10}')"
   ]
  },
  {
   "cell_type": "code",
   "execution_count": 1312,
   "id": "bef355b9-462a-44bf-bd15-75329edaa2c4",
   "metadata": {},
   "outputs": [],
   "source": [
    "df_10_graus['desvio_absoluto_100'] = df_10_graus[0.1] - v_media_100_10\n",
    "df_10_graus['desvio_absoluto_200'] = df_10_graus[0.2] - v_media_200_10\n",
    "df_10_graus['desvio_absoluto_300'] = df_10_graus[0.3] - v_media_300_10\n",
    "df_10_graus['desvio_absoluto_400'] = df_10_graus[0.4] - v_media_400_10"
   ]
  },
  {
   "cell_type": "code",
   "execution_count": 1313,
   "id": "609079d4-114c-4c90-8a1f-7446e9f0615f",
   "metadata": {},
   "outputs": [],
   "source": [
    "df_10_graus['desvio_absoluto_100_modulo'] = df_10_graus['desvio_absoluto_100'].abs()\n",
    "df_10_graus['desvio_absoluto_200_modulo'] = df_10_graus['desvio_absoluto_200'].abs()\n",
    "df_10_graus['desvio_absoluto_300_modulo'] = df_10_graus['desvio_absoluto_300'].abs()\n",
    "df_10_graus['desvio_absoluto_400_modulo'] = df_10_graus['desvio_absoluto_400'].abs()"
   ]
  },
  {
   "cell_type": "code",
   "execution_count": 1314,
   "id": "3d14e2ae-3ae5-4e4b-aec7-dbf1f5a33224",
   "metadata": {},
   "outputs": [],
   "source": [
    "incerteza_100_10 = (1/len(df_10_graus))*df_10_graus['desvio_absoluto_100_modulo'].sum()\n",
    "incerteza_200_10 = (1/len(df_10_graus))*df_10_graus['desvio_absoluto_200_modulo'].sum()\n",
    "incerteza_300_10 = (1/len(df_10_graus))*df_10_graus['desvio_absoluto_300_modulo'].sum()\n",
    "incerteza_400_10 = (1/len(df_10_graus))*df_10_graus['desvio_absoluto_400_modulo'].sum()\n",
    "media_incertezas_10_graus = (incerteza_100_10+incerteza_200_10+incerteza_300_10+incerteza_400_10)/4"
   ]
  },
  {
   "cell_type": "code",
   "execution_count": 1315,
   "id": "bc1ef713-a93d-418e-8bf9-33867f030bdb",
   "metadata": {},
   "outputs": [
    {
     "data": {
      "text/html": [
       "<div>\n",
       "<style scoped>\n",
       "    .dataframe tbody tr th:only-of-type {\n",
       "        vertical-align: middle;\n",
       "    }\n",
       "\n",
       "    .dataframe tbody tr th {\n",
       "        vertical-align: top;\n",
       "    }\n",
       "\n",
       "    .dataframe thead th {\n",
       "        text-align: right;\n",
       "    }\n",
       "</style>\n",
       "<table border=\"1\" class=\"dataframe\">\n",
       "  <thead>\n",
       "    <tr style=\"text-align: right;\">\n",
       "      <th></th>\n",
       "      <th>0.1</th>\n",
       "      <th>0.2</th>\n",
       "      <th>0.3</th>\n",
       "      <th>0.4</th>\n",
       "      <th>desvio_absoluto_100</th>\n",
       "      <th>desvio_absoluto_200</th>\n",
       "      <th>desvio_absoluto_300</th>\n",
       "      <th>desvio_absoluto_400</th>\n",
       "    </tr>\n",
       "  </thead>\n",
       "  <tbody>\n",
       "    <tr>\n",
       "      <th>velocidade_t1</th>\n",
       "      <td>0.008237</td>\n",
       "      <td>0.007918</td>\n",
       "      <td>0.007817</td>\n",
       "      <td>0.007862</td>\n",
       "      <td>-0.000382</td>\n",
       "      <td>-0.000542</td>\n",
       "      <td>-0.000565</td>\n",
       "      <td>-0.000567</td>\n",
       "    </tr>\n",
       "    <tr>\n",
       "      <th>velocidade_t2</th>\n",
       "      <td>0.008787</td>\n",
       "      <td>0.008617</td>\n",
       "      <td>0.008508</td>\n",
       "      <td>0.008586</td>\n",
       "      <td>0.000168</td>\n",
       "      <td>0.000157</td>\n",
       "      <td>0.000126</td>\n",
       "      <td>0.000157</td>\n",
       "    </tr>\n",
       "    <tr>\n",
       "      <th>velocidade_t3</th>\n",
       "      <td>0.008834</td>\n",
       "      <td>0.008846</td>\n",
       "      <td>0.008821</td>\n",
       "      <td>0.00884</td>\n",
       "      <td>0.000214</td>\n",
       "      <td>0.000386</td>\n",
       "      <td>0.000439</td>\n",
       "      <td>0.000411</td>\n",
       "    </tr>\n",
       "  </tbody>\n",
       "</table>\n",
       "</div>"
      ],
      "text/plain": [
       "                    0.1       0.2       0.3       0.4 desvio_absoluto_100  \\\n",
       "velocidade_t1  0.008237  0.007918  0.007817  0.007862           -0.000382   \n",
       "velocidade_t2  0.008787  0.008617  0.008508  0.008586            0.000168   \n",
       "velocidade_t3  0.008834  0.008846  0.008821   0.00884            0.000214   \n",
       "\n",
       "              desvio_absoluto_200 desvio_absoluto_300 desvio_absoluto_400  \n",
       "velocidade_t1           -0.000542           -0.000565           -0.000567  \n",
       "velocidade_t2            0.000157            0.000126            0.000157  \n",
       "velocidade_t3            0.000386            0.000439            0.000411  "
      ]
     },
     "execution_count": 1315,
     "metadata": {},
     "output_type": "execute_result"
    }
   ],
   "source": [
    "df_10_graus_velocidade = df_10_graus.drop(columns=['desvio_absoluto_100_modulo', 'desvio_absoluto_200_modulo', 'desvio_absoluto_300_modulo', 'desvio_absoluto_400_modulo'], axis=1)\n",
    "df_10_graus_velocidade"
   ]
  },
  {
   "cell_type": "code",
   "execution_count": 1316,
   "id": "af3a46b3-969f-4930-b01b-5360e70021c7",
   "metadata": {},
   "outputs": [
    {
     "data": {
      "text/html": [
       "<div>\n",
       "<style scoped>\n",
       "    .dataframe tbody tr th:only-of-type {\n",
       "        vertical-align: middle;\n",
       "    }\n",
       "\n",
       "    .dataframe tbody tr th {\n",
       "        vertical-align: top;\n",
       "    }\n",
       "\n",
       "    .dataframe thead th {\n",
       "        text-align: right;\n",
       "    }\n",
       "</style>\n",
       "<table border=\"1\" class=\"dataframe\">\n",
       "  <thead>\n",
       "    <tr style=\"text-align: right;\">\n",
       "      <th></th>\n",
       "      <th>Ângulo: 10º</th>\n",
       "    </tr>\n",
       "  </thead>\n",
       "  <tbody>\n",
       "    <tr>\n",
       "      <th>100mm</th>\n",
       "      <td>0.000255</td>\n",
       "    </tr>\n",
       "    <tr>\n",
       "      <th>200mm</th>\n",
       "      <td>0.000362</td>\n",
       "    </tr>\n",
       "    <tr>\n",
       "      <th>300mm</th>\n",
       "      <td>0.000377</td>\n",
       "    </tr>\n",
       "    <tr>\n",
       "      <th>400mm</th>\n",
       "      <td>0.000378</td>\n",
       "    </tr>\n",
       "    <tr>\n",
       "      <th>Média de Incertezas</th>\n",
       "      <td>0.000343</td>\n",
       "    </tr>\n",
       "  </tbody>\n",
       "</table>\n",
       "</div>"
      ],
      "text/plain": [
       "                     Ângulo: 10º\n",
       "100mm                   0.000255\n",
       "200mm                   0.000362\n",
       "300mm                   0.000377\n",
       "400mm                   0.000378\n",
       "Média de Incertezas     0.000343"
      ]
     },
     "execution_count": 1316,
     "metadata": {},
     "output_type": "execute_result"
    }
   ],
   "source": [
    "incertezas_10_graus_velocidade = pd.DataFrame(data=[incerteza_100_10, incerteza_200_10, incerteza_300_10, incerteza_400_10, media_incertezas_10_graus],\n",
    "                                  index=['100mm', '200mm', '300mm', '400mm', 'Média de Incertezas'],\n",
    "                                  columns=['Ângulo: 10º'])\n",
    "incertezas_10_graus_velocidade"
   ]
  },
  {
   "cell_type": "markdown",
   "id": "4a0a2127-2f6e-4d97-869a-9857b9a7375a",
   "metadata": {},
   "source": [
    "## Incertezas Velocidade 20º"
   ]
  },
  {
   "cell_type": "code",
   "execution_count": 1317,
   "id": "bb7aca6e-c648-4ec3-95cf-a0f430298052",
   "metadata": {},
   "outputs": [],
   "source": [
    "v_media_100_20 = ((1/len(df_20_graus))*(df_20_graus[0.1].sum()))\n",
    "v_media_200_20 = ((1/len(df_20_graus))*(df_20_graus[0.2].sum()))\n",
    "v_media_300_20 = ((1/len(df_20_graus))*(df_20_graus[0.3].sum()))\n",
    "v_media_400_20 = ((1/len(df_20_graus))*(df_20_graus[0.4].sum()))"
   ]
  },
  {
   "cell_type": "code",
   "execution_count": 1318,
   "id": "c3496a1a-e776-46ad-a75d-62f4cbd3bd11",
   "metadata": {},
   "outputs": [
    {
     "name": "stdout",
     "output_type": "stream",
     "text": [
      "t médio para 100mm no ângulo 10: 0.021780315816431767\n",
      "t médio para 200mm no ângulo 10: 0.021190710229515623\n",
      "t médio para 300mm no ângulo 10: 0.020900028426519245\n",
      "t médio para 400mm no ângulo 10: 0.020643759941361854\n"
     ]
    }
   ],
   "source": [
    "print(f't médio para 100mm no ângulo 10: {v_media_100_20}')\n",
    "print(f't médio para 200mm no ângulo 10: {v_media_200_20}')\n",
    "print(f't médio para 300mm no ângulo 10: {v_media_300_20}')\n",
    "print(f't médio para 400mm no ângulo 10: {v_media_400_20}')"
   ]
  },
  {
   "cell_type": "code",
   "execution_count": 1319,
   "id": "3c237f0f-0fa2-4379-b93a-a3cca912f421",
   "metadata": {},
   "outputs": [],
   "source": [
    "df_20_graus['desvio_absoluto_100'] = df_20_graus[0.1] - v_media_100_20\n",
    "df_20_graus['desvio_absoluto_200'] = df_20_graus[0.2] - v_media_200_20\n",
    "df_20_graus['desvio_absoluto_300'] = df_20_graus[0.3] - v_media_300_20\n",
    "df_20_graus['desvio_absoluto_400'] = df_20_graus[0.4] - v_media_400_20"
   ]
  },
  {
   "cell_type": "code",
   "execution_count": 1320,
   "id": "5b972902-92f8-4f0e-b1d6-71f9bb60245c",
   "metadata": {},
   "outputs": [],
   "source": [
    "df_20_graus['desvio_absoluto_100_modulo'] = df_20_graus['desvio_absoluto_100'].abs()\n",
    "df_20_graus['desvio_absoluto_200_modulo'] = df_20_graus['desvio_absoluto_200'].abs()\n",
    "df_20_graus['desvio_absoluto_300_modulo'] = df_20_graus['desvio_absoluto_300'].abs()\n",
    "df_20_graus['desvio_absoluto_400_modulo'] = df_20_graus['desvio_absoluto_400'].abs()"
   ]
  },
  {
   "cell_type": "code",
   "execution_count": 1321,
   "id": "61ddc0bd-7464-4f70-b69c-d527f3019274",
   "metadata": {},
   "outputs": [],
   "source": [
    "incerteza_100_20 = (1/len(df_20_graus))*df_20_graus['desvio_absoluto_100_modulo'].sum()\n",
    "incerteza_200_20 = (1/len(df_20_graus))*df_20_graus['desvio_absoluto_200_modulo'].sum()\n",
    "incerteza_300_20 = (1/len(df_20_graus))*df_20_graus['desvio_absoluto_300_modulo'].sum()\n",
    "incerteza_400_20 = (1/len(df_20_graus))*df_20_graus['desvio_absoluto_400_modulo'].sum()\n",
    "media_incertezas_20_graus = (incerteza_100_20+incerteza_200_20+incerteza_300_20+incerteza_400_20)/4"
   ]
  },
  {
   "cell_type": "code",
   "execution_count": 1322,
   "id": "0e46e798-c0ff-4476-80ab-9cd205575d5d",
   "metadata": {},
   "outputs": [
    {
     "data": {
      "text/html": [
       "<div>\n",
       "<style scoped>\n",
       "    .dataframe tbody tr th:only-of-type {\n",
       "        vertical-align: middle;\n",
       "    }\n",
       "\n",
       "    .dataframe tbody tr th {\n",
       "        vertical-align: top;\n",
       "    }\n",
       "\n",
       "    .dataframe thead th {\n",
       "        text-align: right;\n",
       "    }\n",
       "</style>\n",
       "<table border=\"1\" class=\"dataframe\">\n",
       "  <thead>\n",
       "    <tr style=\"text-align: right;\">\n",
       "      <th></th>\n",
       "      <th>0.1</th>\n",
       "      <th>0.2</th>\n",
       "      <th>0.3</th>\n",
       "      <th>0.4</th>\n",
       "      <th>desvio_absoluto_100</th>\n",
       "      <th>desvio_absoluto_200</th>\n",
       "      <th>desvio_absoluto_300</th>\n",
       "      <th>desvio_absoluto_400</th>\n",
       "    </tr>\n",
       "  </thead>\n",
       "  <tbody>\n",
       "    <tr>\n",
       "      <th>velocidade_t1</th>\n",
       "      <td>0.021186</td>\n",
       "      <td>0.020986</td>\n",
       "      <td>0.021038</td>\n",
       "      <td>0.021142</td>\n",
       "      <td>-0.000594</td>\n",
       "      <td>-0.000204</td>\n",
       "      <td>0.000138</td>\n",
       "      <td>0.000498</td>\n",
       "    </tr>\n",
       "    <tr>\n",
       "      <th>velocidade_t2</th>\n",
       "      <td>0.02079</td>\n",
       "      <td>0.020704</td>\n",
       "      <td>0.019828</td>\n",
       "      <td>0.019569</td>\n",
       "      <td>-0.00099</td>\n",
       "      <td>-0.000487</td>\n",
       "      <td>-0.001072</td>\n",
       "      <td>-0.001074</td>\n",
       "    </tr>\n",
       "    <tr>\n",
       "      <th>velocidade_t3</th>\n",
       "      <td>0.023364</td>\n",
       "      <td>0.021882</td>\n",
       "      <td>0.021834</td>\n",
       "      <td>0.02122</td>\n",
       "      <td>0.001584</td>\n",
       "      <td>0.000691</td>\n",
       "      <td>0.000934</td>\n",
       "      <td>0.000576</td>\n",
       "    </tr>\n",
       "  </tbody>\n",
       "</table>\n",
       "</div>"
      ],
      "text/plain": [
       "                    0.1       0.2       0.3       0.4 desvio_absoluto_100  \\\n",
       "velocidade_t1  0.021186  0.020986  0.021038  0.021142           -0.000594   \n",
       "velocidade_t2   0.02079  0.020704  0.019828  0.019569            -0.00099   \n",
       "velocidade_t3  0.023364  0.021882  0.021834   0.02122            0.001584   \n",
       "\n",
       "              desvio_absoluto_200 desvio_absoluto_300 desvio_absoluto_400  \n",
       "velocidade_t1           -0.000204            0.000138            0.000498  \n",
       "velocidade_t2           -0.000487           -0.001072           -0.001074  \n",
       "velocidade_t3            0.000691            0.000934            0.000576  "
      ]
     },
     "execution_count": 1322,
     "metadata": {},
     "output_type": "execute_result"
    }
   ],
   "source": [
    "df_20_graus_velocidade = df_20_graus.drop(columns=['desvio_absoluto_100_modulo', 'desvio_absoluto_200_modulo', 'desvio_absoluto_300_modulo', 'desvio_absoluto_400_modulo'], axis=1)\n",
    "df_20_graus_velocidade"
   ]
  },
  {
   "cell_type": "code",
   "execution_count": 1323,
   "id": "a35f94f0-82a9-47e4-acb9-6bbc65e9e65f",
   "metadata": {},
   "outputs": [
    {
     "data": {
      "text/html": [
       "<div>\n",
       "<style scoped>\n",
       "    .dataframe tbody tr th:only-of-type {\n",
       "        vertical-align: middle;\n",
       "    }\n",
       "\n",
       "    .dataframe tbody tr th {\n",
       "        vertical-align: top;\n",
       "    }\n",
       "\n",
       "    .dataframe thead th {\n",
       "        text-align: right;\n",
       "    }\n",
       "</style>\n",
       "<table border=\"1\" class=\"dataframe\">\n",
       "  <thead>\n",
       "    <tr style=\"text-align: right;\">\n",
       "      <th></th>\n",
       "      <th>Ângulo: 20º</th>\n",
       "    </tr>\n",
       "  </thead>\n",
       "  <tbody>\n",
       "    <tr>\n",
       "      <th>100mm</th>\n",
       "      <td>0.001056</td>\n",
       "    </tr>\n",
       "    <tr>\n",
       "      <th>200mm</th>\n",
       "      <td>0.000461</td>\n",
       "    </tr>\n",
       "    <tr>\n",
       "      <th>300mm</th>\n",
       "      <td>0.000715</td>\n",
       "    </tr>\n",
       "    <tr>\n",
       "      <th>400mm</th>\n",
       "      <td>0.000716</td>\n",
       "    </tr>\n",
       "    <tr>\n",
       "      <th>Média de Incertezas</th>\n",
       "      <td>0.000737</td>\n",
       "    </tr>\n",
       "  </tbody>\n",
       "</table>\n",
       "</div>"
      ],
      "text/plain": [
       "                     Ângulo: 20º\n",
       "100mm                   0.001056\n",
       "200mm                   0.000461\n",
       "300mm                   0.000715\n",
       "400mm                   0.000716\n",
       "Média de Incertezas     0.000737"
      ]
     },
     "execution_count": 1323,
     "metadata": {},
     "output_type": "execute_result"
    }
   ],
   "source": [
    "incertezas_20_graus_velocidade = pd.DataFrame(data=[incerteza_100_20, incerteza_200_20, incerteza_300_20, incerteza_400_20, media_incertezas_20_graus],\n",
    "                                  index=['100mm', '200mm', '300mm', '400mm', 'Média de Incertezas'],\n",
    "                                  columns=['Ângulo: 20º'])\n",
    "incertezas_20_graus_velocidade"
   ]
  },
  {
   "cell_type": "markdown",
   "id": "31db45f2-014c-4b07-b8ac-aa0a87eca59d",
   "metadata": {},
   "source": [
    "## Incertezas Velocidade 30º"
   ]
  },
  {
   "cell_type": "code",
   "execution_count": 1324,
   "id": "905f4261-3324-4b4a-8a57-b83b6f8e55ec",
   "metadata": {},
   "outputs": [],
   "source": [
    "v_media_100_30 = ((1/len(df_30_graus))*(df_30_graus[0.1].sum()))\n",
    "v_media_200_30 = ((1/len(df_30_graus))*(df_30_graus[0.2].sum()))\n",
    "v_media_300_30 = ((1/len(df_30_graus))*(df_30_graus[0.3].sum()))\n",
    "v_media_400_30 = ((1/len(df_30_graus))*(df_30_graus[0.4].sum()))"
   ]
  },
  {
   "cell_type": "code",
   "execution_count": 1325,
   "id": "83c3a21f-f3a4-4730-a583-8ea2583561cc",
   "metadata": {},
   "outputs": [
    {
     "name": "stdout",
     "output_type": "stream",
     "text": [
      "t médio para 100mm no ângulo 10: 0.037550557990809565\n",
      "t médio para 200mm no ângulo 10: 0.0369180656065902\n",
      "t médio para 300mm no ângulo 10: 0.03637347229962544\n",
      "t médio para 400mm no ângulo 10: 0.03670456112215709\n"
     ]
    }
   ],
   "source": [
    "print(f't médio para 100mm no ângulo 10: {v_media_100_30}')\n",
    "print(f't médio para 200mm no ângulo 10: {v_media_200_30}')\n",
    "print(f't médio para 300mm no ângulo 10: {v_media_300_30}')\n",
    "print(f't médio para 400mm no ângulo 10: {v_media_400_30}')"
   ]
  },
  {
   "cell_type": "code",
   "execution_count": 1326,
   "id": "6d83a65a-2748-40f6-85bb-cec45ff602da",
   "metadata": {},
   "outputs": [],
   "source": [
    "df_30_graus['desvio_absoluto_100'] = df_30_graus[0.1] - v_media_100_30\n",
    "df_30_graus['desvio_absoluto_200'] = df_30_graus[0.2] - v_media_200_30\n",
    "df_30_graus['desvio_absoluto_300'] = df_30_graus[0.3] - v_media_300_30\n",
    "df_30_graus['desvio_absoluto_400'] = df_30_graus[0.4] - v_media_400_30"
   ]
  },
  {
   "cell_type": "code",
   "execution_count": 1327,
   "id": "9ea2bcbd-2ab3-482a-862d-392fef047336",
   "metadata": {},
   "outputs": [],
   "source": [
    "df_30_graus['desvio_absoluto_100_modulo'] = df_30_graus['desvio_absoluto_100'].abs()\n",
    "df_30_graus['desvio_absoluto_200_modulo'] = df_30_graus['desvio_absoluto_200'].abs()\n",
    "df_30_graus['desvio_absoluto_300_modulo'] = df_30_graus['desvio_absoluto_300'].abs()\n",
    "df_30_graus['desvio_absoluto_400_modulo'] = df_30_graus['desvio_absoluto_400'].abs()"
   ]
  },
  {
   "cell_type": "code",
   "execution_count": 1328,
   "id": "33203b50-1d03-4cce-b179-3e5012278924",
   "metadata": {},
   "outputs": [],
   "source": [
    "incerteza_100_30 = (1/len(df_30_graus))*df_30_graus['desvio_absoluto_100_modulo'].sum()\n",
    "incerteza_200_30 = (1/len(df_30_graus))*df_30_graus['desvio_absoluto_200_modulo'].sum()\n",
    "incerteza_300_30 = (1/len(df_30_graus))*df_30_graus['desvio_absoluto_300_modulo'].sum()\n",
    "incerteza_400_30 = (1/len(df_30_graus))*df_30_graus['desvio_absoluto_400_modulo'].sum()\n",
    "media_incertezas_30_graus = (incerteza_100_30+incerteza_200_30+incerteza_300_30+incerteza_400_30)/4"
   ]
  },
  {
   "cell_type": "code",
   "execution_count": 1329,
   "id": "f30bfe51-453c-463a-af90-8647a2264c33",
   "metadata": {},
   "outputs": [
    {
     "data": {
      "text/html": [
       "<div>\n",
       "<style scoped>\n",
       "    .dataframe tbody tr th:only-of-type {\n",
       "        vertical-align: middle;\n",
       "    }\n",
       "\n",
       "    .dataframe tbody tr th {\n",
       "        vertical-align: top;\n",
       "    }\n",
       "\n",
       "    .dataframe thead th {\n",
       "        text-align: right;\n",
       "    }\n",
       "</style>\n",
       "<table border=\"1\" class=\"dataframe\">\n",
       "  <thead>\n",
       "    <tr style=\"text-align: right;\">\n",
       "      <th></th>\n",
       "      <th>0.1</th>\n",
       "      <th>0.2</th>\n",
       "      <th>0.3</th>\n",
       "      <th>0.4</th>\n",
       "      <th>desvio_absoluto_100</th>\n",
       "      <th>desvio_absoluto_200</th>\n",
       "      <th>desvio_absoluto_300</th>\n",
       "      <th>desvio_absoluto_400</th>\n",
       "    </tr>\n",
       "  </thead>\n",
       "  <tbody>\n",
       "    <tr>\n",
       "      <th>velocidade_t1</th>\n",
       "      <td>0.037736</td>\n",
       "      <td>0.03861</td>\n",
       "      <td>0.037221</td>\n",
       "      <td>0.037879</td>\n",
       "      <td>0.000185</td>\n",
       "      <td>0.001692</td>\n",
       "      <td>0.000847</td>\n",
       "      <td>0.001174</td>\n",
       "    </tr>\n",
       "    <tr>\n",
       "      <th>velocidade_t2</th>\n",
       "      <td>0.037037</td>\n",
       "      <td>0.03643</td>\n",
       "      <td>0.036014</td>\n",
       "      <td>0.036069</td>\n",
       "      <td>-0.000514</td>\n",
       "      <td>-0.000488</td>\n",
       "      <td>-0.000359</td>\n",
       "      <td>-0.000636</td>\n",
       "    </tr>\n",
       "    <tr>\n",
       "      <th>velocidade_t3</th>\n",
       "      <td>0.037879</td>\n",
       "      <td>0.035714</td>\n",
       "      <td>0.035885</td>\n",
       "      <td>0.036166</td>\n",
       "      <td>0.000328</td>\n",
       "      <td>-0.001204</td>\n",
       "      <td>-0.000488</td>\n",
       "      <td>-0.000538</td>\n",
       "    </tr>\n",
       "  </tbody>\n",
       "</table>\n",
       "</div>"
      ],
      "text/plain": [
       "                    0.1       0.2       0.3       0.4 desvio_absoluto_100  \\\n",
       "velocidade_t1  0.037736   0.03861  0.037221  0.037879            0.000185   \n",
       "velocidade_t2  0.037037   0.03643  0.036014  0.036069           -0.000514   \n",
       "velocidade_t3  0.037879  0.035714  0.035885  0.036166            0.000328   \n",
       "\n",
       "              desvio_absoluto_200 desvio_absoluto_300 desvio_absoluto_400  \n",
       "velocidade_t1            0.001692            0.000847            0.001174  \n",
       "velocidade_t2           -0.000488           -0.000359           -0.000636  \n",
       "velocidade_t3           -0.001204           -0.000488           -0.000538  "
      ]
     },
     "execution_count": 1329,
     "metadata": {},
     "output_type": "execute_result"
    }
   ],
   "source": [
    "df_30_graus_velocidade = df_30_graus.drop(columns=['desvio_absoluto_100_modulo', 'desvio_absoluto_200_modulo', 'desvio_absoluto_300_modulo', 'desvio_absoluto_400_modulo'], axis=1)\n",
    "df_30_graus_velocidade"
   ]
  },
  {
   "cell_type": "code",
   "execution_count": 1330,
   "id": "73c3ffdd-f770-4c6e-890d-dfddbbe9d743",
   "metadata": {},
   "outputs": [
    {
     "data": {
      "text/html": [
       "<div>\n",
       "<style scoped>\n",
       "    .dataframe tbody tr th:only-of-type {\n",
       "        vertical-align: middle;\n",
       "    }\n",
       "\n",
       "    .dataframe tbody tr th {\n",
       "        vertical-align: top;\n",
       "    }\n",
       "\n",
       "    .dataframe thead th {\n",
       "        text-align: right;\n",
       "    }\n",
       "</style>\n",
       "<table border=\"1\" class=\"dataframe\">\n",
       "  <thead>\n",
       "    <tr style=\"text-align: right;\">\n",
       "      <th></th>\n",
       "      <th>Ângulo: 30º</th>\n",
       "    </tr>\n",
       "  </thead>\n",
       "  <tbody>\n",
       "    <tr>\n",
       "      <th>100mm</th>\n",
       "      <td>0.000342</td>\n",
       "    </tr>\n",
       "    <tr>\n",
       "      <th>200mm</th>\n",
       "      <td>0.001128</td>\n",
       "    </tr>\n",
       "    <tr>\n",
       "      <th>300mm</th>\n",
       "      <td>0.000565</td>\n",
       "    </tr>\n",
       "    <tr>\n",
       "      <th>400mm</th>\n",
       "      <td>0.000783</td>\n",
       "    </tr>\n",
       "    <tr>\n",
       "      <th>Média de Incertezas</th>\n",
       "      <td>0.000705</td>\n",
       "    </tr>\n",
       "  </tbody>\n",
       "</table>\n",
       "</div>"
      ],
      "text/plain": [
       "                     Ângulo: 30º\n",
       "100mm                   0.000342\n",
       "200mm                   0.001128\n",
       "300mm                   0.000565\n",
       "400mm                   0.000783\n",
       "Média de Incertezas     0.000705"
      ]
     },
     "execution_count": 1330,
     "metadata": {},
     "output_type": "execute_result"
    }
   ],
   "source": [
    "incertezas_30_graus_velocidade = pd.DataFrame(data=[incerteza_100_30, incerteza_200_30, incerteza_300_30, incerteza_400_30, media_incertezas_30_graus],\n",
    "                                  index=['100mm', '200mm', '300mm', '400mm', 'Média de Incertezas'],\n",
    "                                  columns=['Ângulo: 30º'])\n",
    "incertezas_30_graus_velocidade"
   ]
  },
  {
   "cell_type": "markdown",
   "id": "c31fe953-bf7b-4b9f-8116-44a24e7a7362",
   "metadata": {},
   "source": [
    "## Incertezas Velocidae 40º"
   ]
  },
  {
   "cell_type": "code",
   "execution_count": 1331,
   "id": "ef012d94-3525-4566-941f-e8319c19c316",
   "metadata": {},
   "outputs": [],
   "source": [
    "v_media_100_40 = ((1/len(df_40_graus))*(df_40_graus[0.1].sum()))\n",
    "v_media_200_40 = ((1/len(df_40_graus))*(df_40_graus[0.2].sum()))\n",
    "v_media_300_40 = ((1/len(df_40_graus))*(df_40_graus[0.3].sum()))\n",
    "v_media_400_40 = ((1/len(df_40_graus))*(df_40_graus[0.4].sum()))"
   ]
  },
  {
   "cell_type": "code",
   "execution_count": 1332,
   "id": "95ae3f98-3e16-4108-9067-774d0b9a7e68",
   "metadata": {},
   "outputs": [
    {
     "name": "stdout",
     "output_type": "stream",
     "text": [
      "t médio para 100mm no ângulo 10: 0.06462874414864593\n",
      "t médio para 200mm no ângulo 10: 0.06358967741081563\n",
      "t médio para 300mm no ângulo 10: 0.06286234982230073\n",
      "t médio para 400mm no ângulo 10: 0.06320349673511327\n"
     ]
    }
   ],
   "source": [
    "print(f't médio para 100mm no ângulo 10: {v_media_100_40}')\n",
    "print(f't médio para 200mm no ângulo 10: {v_media_200_40}')\n",
    "print(f't médio para 300mm no ângulo 10: {v_media_300_40}')\n",
    "print(f't médio para 400mm no ângulo 10: {v_media_400_40}')"
   ]
  },
  {
   "cell_type": "code",
   "execution_count": 1333,
   "id": "ca4433e0-2126-4dcb-a0b6-e0b64bbc5cc4",
   "metadata": {},
   "outputs": [],
   "source": [
    "df_40_graus['desvio_absoluto_100'] = df_40_graus[0.1] - v_media_100_40\n",
    "df_40_graus['desvio_absoluto_200'] = df_40_graus[0.2] - v_media_200_40\n",
    "df_40_graus['desvio_absoluto_300'] = df_40_graus[0.3] - v_media_300_40\n",
    "df_40_graus['desvio_absoluto_400'] = df_40_graus[0.4] - v_media_400_40"
   ]
  },
  {
   "cell_type": "code",
   "execution_count": 1334,
   "id": "1c801944-4e4f-4f17-8cef-107c4cb614da",
   "metadata": {},
   "outputs": [],
   "source": [
    "df_40_graus['desvio_absoluto_100_modulo'] = df_40_graus['desvio_absoluto_100'].abs()\n",
    "df_40_graus['desvio_absoluto_200_modulo'] = df_40_graus['desvio_absoluto_200'].abs()\n",
    "df_40_graus['desvio_absoluto_300_modulo'] = df_40_graus['desvio_absoluto_300'].abs()\n",
    "df_40_graus['desvio_absoluto_400_modulo'] = df_40_graus['desvio_absoluto_400'].abs()"
   ]
  },
  {
   "cell_type": "code",
   "execution_count": 1335,
   "id": "1478f12d-d394-420f-886e-49fa326ea145",
   "metadata": {},
   "outputs": [],
   "source": [
    "incerteza_100_40 = (1/len(df_40_graus))*df_40_graus['desvio_absoluto_100_modulo'].sum()\n",
    "incerteza_200_40 = (1/len(df_40_graus))*df_40_graus['desvio_absoluto_200_modulo'].sum()\n",
    "incerteza_300_40 = (1/len(df_40_graus))*df_40_graus['desvio_absoluto_300_modulo'].sum()\n",
    "incerteza_400_40 = (1/len(df_40_graus))*df_40_graus['desvio_absoluto_400_modulo'].sum()\n",
    "media_incertezas_40_graus = (incerteza_100_40+incerteza_200_40+incerteza_300_40+incerteza_400_40)/4"
   ]
  },
  {
   "cell_type": "code",
   "execution_count": 1336,
   "id": "9cb2b5c8-0695-4901-85bc-3d5bb56e768e",
   "metadata": {},
   "outputs": [
    {
     "data": {
      "text/html": [
       "<div>\n",
       "<style scoped>\n",
       "    .dataframe tbody tr th:only-of-type {\n",
       "        vertical-align: middle;\n",
       "    }\n",
       "\n",
       "    .dataframe tbody tr th {\n",
       "        vertical-align: top;\n",
       "    }\n",
       "\n",
       "    .dataframe thead th {\n",
       "        text-align: right;\n",
       "    }\n",
       "</style>\n",
       "<table border=\"1\" class=\"dataframe\">\n",
       "  <thead>\n",
       "    <tr style=\"text-align: right;\">\n",
       "      <th></th>\n",
       "      <th>0.1</th>\n",
       "      <th>0.2</th>\n",
       "      <th>0.3</th>\n",
       "      <th>0.4</th>\n",
       "      <th>desvio_absoluto_100</th>\n",
       "      <th>desvio_absoluto_200</th>\n",
       "      <th>desvio_absoluto_300</th>\n",
       "      <th>desvio_absoluto_400</th>\n",
       "    </tr>\n",
       "  </thead>\n",
       "  <tbody>\n",
       "    <tr>\n",
       "      <th>velocidade_t1</th>\n",
       "      <td>0.068493</td>\n",
       "      <td>0.064103</td>\n",
       "      <td>0.063694</td>\n",
       "      <td>0.062794</td>\n",
       "      <td>0.003864</td>\n",
       "      <td>0.000513</td>\n",
       "      <td>0.000832</td>\n",
       "      <td>-0.000409</td>\n",
       "    </tr>\n",
       "    <tr>\n",
       "      <th>velocidade_t2</th>\n",
       "      <td>0.062893</td>\n",
       "      <td>0.05698</td>\n",
       "      <td>0.061602</td>\n",
       "      <td>0.06135</td>\n",
       "      <td>-0.001736</td>\n",
       "      <td>-0.00661</td>\n",
       "      <td>-0.001261</td>\n",
       "      <td>-0.001854</td>\n",
       "    </tr>\n",
       "    <tr>\n",
       "      <th>velocidade_t3</th>\n",
       "      <td>0.0625</td>\n",
       "      <td>0.069686</td>\n",
       "      <td>0.063291</td>\n",
       "      <td>0.065466</td>\n",
       "      <td>-0.002129</td>\n",
       "      <td>0.006097</td>\n",
       "      <td>0.000429</td>\n",
       "      <td>0.002263</td>\n",
       "    </tr>\n",
       "  </tbody>\n",
       "</table>\n",
       "</div>"
      ],
      "text/plain": [
       "                    0.1       0.2       0.3       0.4 desvio_absoluto_100  \\\n",
       "velocidade_t1  0.068493  0.064103  0.063694  0.062794            0.003864   \n",
       "velocidade_t2  0.062893   0.05698  0.061602   0.06135           -0.001736   \n",
       "velocidade_t3    0.0625  0.069686  0.063291  0.065466           -0.002129   \n",
       "\n",
       "              desvio_absoluto_200 desvio_absoluto_300 desvio_absoluto_400  \n",
       "velocidade_t1            0.000513            0.000832           -0.000409  \n",
       "velocidade_t2            -0.00661           -0.001261           -0.001854  \n",
       "velocidade_t3            0.006097            0.000429            0.002263  "
      ]
     },
     "execution_count": 1336,
     "metadata": {},
     "output_type": "execute_result"
    }
   ],
   "source": [
    "df_40_graus_velocidade = df_40_graus.drop(columns=['desvio_absoluto_100_modulo', 'desvio_absoluto_200_modulo', 'desvio_absoluto_300_modulo', 'desvio_absoluto_400_modulo'], axis=1)\n",
    "df_40_graus_velocidade"
   ]
  },
  {
   "cell_type": "code",
   "execution_count": 1337,
   "id": "b19b8c4c-0df3-4638-a13b-9d883a02f379",
   "metadata": {},
   "outputs": [
    {
     "data": {
      "text/html": [
       "<div>\n",
       "<style scoped>\n",
       "    .dataframe tbody tr th:only-of-type {\n",
       "        vertical-align: middle;\n",
       "    }\n",
       "\n",
       "    .dataframe tbody tr th {\n",
       "        vertical-align: top;\n",
       "    }\n",
       "\n",
       "    .dataframe thead th {\n",
       "        text-align: right;\n",
       "    }\n",
       "</style>\n",
       "<table border=\"1\" class=\"dataframe\">\n",
       "  <thead>\n",
       "    <tr style=\"text-align: right;\">\n",
       "      <th></th>\n",
       "      <th>Ângulo: 40º</th>\n",
       "    </tr>\n",
       "  </thead>\n",
       "  <tbody>\n",
       "    <tr>\n",
       "      <th>100mm</th>\n",
       "      <td>0.002576</td>\n",
       "    </tr>\n",
       "    <tr>\n",
       "      <th>200mm</th>\n",
       "      <td>0.004406</td>\n",
       "    </tr>\n",
       "    <tr>\n",
       "      <th>300mm</th>\n",
       "      <td>0.000840</td>\n",
       "    </tr>\n",
       "    <tr>\n",
       "      <th>400mm</th>\n",
       "      <td>0.001509</td>\n",
       "    </tr>\n",
       "    <tr>\n",
       "      <th>Média de Incertezas</th>\n",
       "      <td>0.002333</td>\n",
       "    </tr>\n",
       "  </tbody>\n",
       "</table>\n",
       "</div>"
      ],
      "text/plain": [
       "                     Ângulo: 40º\n",
       "100mm                   0.002576\n",
       "200mm                   0.004406\n",
       "300mm                   0.000840\n",
       "400mm                   0.001509\n",
       "Média de Incertezas     0.002333"
      ]
     },
     "execution_count": 1337,
     "metadata": {},
     "output_type": "execute_result"
    }
   ],
   "source": [
    "incertezas_40_graus_velocidade = pd.DataFrame(data=[incerteza_100_40, incerteza_200_40, incerteza_300_40, incerteza_400_40, media_incertezas_40_graus],\n",
    "                                  index=['100mm', '200mm', '300mm', '400mm', 'Média de Incertezas'],\n",
    "                                  columns=['Ângulo: 40º'])\n",
    "incertezas_40_graus_velocidade"
   ]
  },
  {
   "cell_type": "markdown",
   "id": "dbba71da-545c-4dfe-a2f9-98346c8c8fe0",
   "metadata": {},
   "source": [
    "## Resultados Incertezas"
   ]
  },
  {
   "cell_type": "code",
   "execution_count": 1338,
   "id": "fa1ea244-38cb-4dde-b040-d47dfe243ec4",
   "metadata": {},
   "outputs": [],
   "source": [
    "v_10_graus_media_velocidade = (v_media_100_10+v_media_200_10+v_media_300_10+v_media_400_10)/4\n",
    "v_20_graus_media_velocidade = (v_media_100_20+v_media_200_20+v_media_300_20+v_media_400_20)/4\n",
    "v_30_graus_media_velocidade = (v_media_100_30+v_media_200_30+v_media_300_30+v_media_100_40)/4\n",
    "v_40_graus_media_velocidade = (v_media_100_40+v_media_200_40+v_media_300_40+v_media_400_40)/4"
   ]
  },
  {
   "cell_type": "code",
   "execution_count": 1339,
   "id": "6595fef4-e11f-4294-83b4-faccc246773c",
   "metadata": {},
   "outputs": [
    {
     "data": {
      "text/html": [
       "<div>\n",
       "<style scoped>\n",
       "    .dataframe tbody tr th:only-of-type {\n",
       "        vertical-align: middle;\n",
       "    }\n",
       "\n",
       "    .dataframe tbody tr th {\n",
       "        vertical-align: top;\n",
       "    }\n",
       "\n",
       "    .dataframe thead th {\n",
       "        text-align: right;\n",
       "    }\n",
       "</style>\n",
       "<table border=\"1\" class=\"dataframe\">\n",
       "  <thead>\n",
       "    <tr style=\"text-align: right;\">\n",
       "      <th></th>\n",
       "      <th>Ângulo: 10º</th>\n",
       "      <th>Ângulo: 20º</th>\n",
       "      <th>Ângulo: 30º</th>\n",
       "      <th>Ângulo: 40º</th>\n",
       "    </tr>\n",
       "  </thead>\n",
       "  <tbody>\n",
       "    <tr>\n",
       "      <th>100mm</th>\n",
       "      <td>0.000255</td>\n",
       "      <td>0.001056</td>\n",
       "      <td>0.000342</td>\n",
       "      <td>0.002576</td>\n",
       "    </tr>\n",
       "    <tr>\n",
       "      <th>200mm</th>\n",
       "      <td>0.000362</td>\n",
       "      <td>0.000461</td>\n",
       "      <td>0.001128</td>\n",
       "      <td>0.004406</td>\n",
       "    </tr>\n",
       "    <tr>\n",
       "      <th>300mm</th>\n",
       "      <td>0.000377</td>\n",
       "      <td>0.000715</td>\n",
       "      <td>0.000565</td>\n",
       "      <td>0.000840</td>\n",
       "    </tr>\n",
       "    <tr>\n",
       "      <th>400mm</th>\n",
       "      <td>0.000378</td>\n",
       "      <td>0.000716</td>\n",
       "      <td>0.000783</td>\n",
       "      <td>0.001509</td>\n",
       "    </tr>\n",
       "    <tr>\n",
       "      <th>Média de Incertezas</th>\n",
       "      <td>0.000343</td>\n",
       "      <td>0.000737</td>\n",
       "      <td>0.000705</td>\n",
       "      <td>0.002333</td>\n",
       "    </tr>\n",
       "  </tbody>\n",
       "</table>\n",
       "</div>"
      ],
      "text/plain": [
       "                     Ângulo: 10º  Ângulo: 20º  Ângulo: 30º  Ângulo: 40º\n",
       "100mm                   0.000255     0.001056     0.000342     0.002576\n",
       "200mm                   0.000362     0.000461     0.001128     0.004406\n",
       "300mm                   0.000377     0.000715     0.000565     0.000840\n",
       "400mm                   0.000378     0.000716     0.000783     0.001509\n",
       "Média de Incertezas     0.000343     0.000737     0.000705     0.002333"
      ]
     },
     "execution_count": 1339,
     "metadata": {},
     "output_type": "execute_result"
    }
   ],
   "source": [
    "df_incertezas_velocidade = pd.concat([incertezas_10_graus_velocidade, incertezas_20_graus_velocidade, incertezas_30_graus_velocidade, incertezas_40_graus_velocidade], axis=1)\n",
    "df_incertezas_velocidade"
   ]
  },
  {
   "cell_type": "code",
   "execution_count": 1340,
   "id": "89eaad46-e11c-42b5-b66b-92d0ca5781d7",
   "metadata": {},
   "outputs": [],
   "source": [
    "dados_incertezas = {\n",
    "    'Incerteza Absoluta Velocidade 10º (Tempo+-Desvio)' : [f'{round(v_10_graus_media_velocidade,3)} +- {round(media_incertezas_10_graus,3)}'],\n",
    "    'Incerteza Absoluta Velocidade 20º (Tempo+-Desvio)' : [f'{round(v_20_graus_media_velocidade,3)} +- {round(media_incertezas_20_graus,3)}'],\n",
    "    'Incerteza Absoluta Velocidade 30º (Tempo+-Desvio)' : [f'{round(v_30_graus_media_velocidade,3)} +- {round(media_incertezas_30_graus,3)}'],\n",
    "    'Incerteza Absoluta Velocidade 40º (Tempo+-Desvio)' : [f'{round(v_40_graus_media_velocidade,3)} +- {round(media_incertezas_40_graus,3)}'],\n",
    "}"
   ]
  },
  {
   "cell_type": "code",
   "execution_count": 1341,
   "id": "60c36f1a-cec7-4c13-9548-db0f9fed228e",
   "metadata": {},
   "outputs": [
    {
     "data": {
      "text/html": [
       "<div>\n",
       "<style scoped>\n",
       "    .dataframe tbody tr th:only-of-type {\n",
       "        vertical-align: middle;\n",
       "    }\n",
       "\n",
       "    .dataframe tbody tr th {\n",
       "        vertical-align: top;\n",
       "    }\n",
       "\n",
       "    .dataframe thead th {\n",
       "        text-align: right;\n",
       "    }\n",
       "</style>\n",
       "<table border=\"1\" class=\"dataframe\">\n",
       "  <thead>\n",
       "    <tr style=\"text-align: right;\">\n",
       "      <th></th>\n",
       "      <th>0</th>\n",
       "    </tr>\n",
       "  </thead>\n",
       "  <tbody>\n",
       "    <tr>\n",
       "      <th>Incerteza Absoluta Velocidade 10º (Tempo+-Desvio)</th>\n",
       "      <td>0.008 +- 0.0</td>\n",
       "    </tr>\n",
       "    <tr>\n",
       "      <th>Incerteza Absoluta Velocidade 20º (Tempo+-Desvio)</th>\n",
       "      <td>0.021 +- 0.001</td>\n",
       "    </tr>\n",
       "    <tr>\n",
       "      <th>Incerteza Absoluta Velocidade 30º (Tempo+-Desvio)</th>\n",
       "      <td>0.044 +- 0.001</td>\n",
       "    </tr>\n",
       "    <tr>\n",
       "      <th>Incerteza Absoluta Velocidade 40º (Tempo+-Desvio)</th>\n",
       "      <td>0.064 +- 0.002</td>\n",
       "    </tr>\n",
       "  </tbody>\n",
       "</table>\n",
       "</div>"
      ],
      "text/plain": [
       "                                                                0\n",
       "Incerteza Absoluta Velocidade 10º (Tempo+-Desvio)    0.008 +- 0.0\n",
       "Incerteza Absoluta Velocidade 20º (Tempo+-Desvio)  0.021 +- 0.001\n",
       "Incerteza Absoluta Velocidade 30º (Tempo+-Desvio)  0.044 +- 0.001\n",
       "Incerteza Absoluta Velocidade 40º (Tempo+-Desvio)  0.064 +- 0.002"
      ]
     },
     "execution_count": 1341,
     "metadata": {},
     "output_type": "execute_result"
    }
   ],
   "source": [
    "df_incertezas_resposta_final_velocidade = pd.DataFrame(dados_incertezas).T\n",
    "df_incertezas_resposta_final_velocidade"
   ]
  }
 ],
 "metadata": {
  "kernelspec": {
   "display_name": "Python 3 (ipykernel)",
   "language": "python",
   "name": "python3"
  },
  "language_info": {
   "codemirror_mode": {
    "name": "ipython",
    "version": 3
   },
   "file_extension": ".py",
   "mimetype": "text/x-python",
   "name": "python",
   "nbconvert_exporter": "python",
   "pygments_lexer": "ipython3",
   "version": "3.11.5"
  }
 },
 "nbformat": 4,
 "nbformat_minor": 5
}
